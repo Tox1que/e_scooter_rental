{
 "cells": [
  {
   "attachments": {},
   "cell_type": "markdown",
   "id": "38733e12",
   "metadata": {},
   "source": [
    "# Статистический анализ данных сервиса кикшеринга."
   ]
  },
  {
   "attachments": {},
   "cell_type": "markdown",
   "id": "ed228e99",
   "metadata": {
    "toc": true
   },
   "source": [
    "<h1>Ход исследования<span class=\"tocSkip\"></span></h1>\n",
    "<div class=\"toc\"><ul class=\"toc-item\"><li><span><a href=\"#Загрузка-данных\" data-toc-modified-id=\"Загрузка-данных-1\"><span class=\"toc-item-num\">1&nbsp;&nbsp;</span>Загрузка данных</a></span></li><li><span><a href=\"#Предобработка-данных\" data-toc-modified-id=\"Предобработка-данных-2\"><span class=\"toc-item-num\">2&nbsp;&nbsp;</span>Предобработка данных</a></span></li><li><span><a href=\"#Исследовательский-анализ-данных\" data-toc-modified-id=\"Исследовательский-анализ-данных-3\"><span class=\"toc-item-num\">3&nbsp;&nbsp;</span>Исследовательский анализ данных</a></span><ul class=\"toc-item\"><li><span><a href=\"#Частота-встречаемости-городов\" data-toc-modified-id=\"Частота-встречаемости-городов-3.1\"><span class=\"toc-item-num\">3.1&nbsp;&nbsp;</span>Частота встречаемости городов</a></span></li><li><span><a href=\"#Соотношение-пользователей-с-подпиской-и-без-подписки\" data-toc-modified-id=\"Соотношение-пользователей-с-подпиской-и-без-подписки-3.2\"><span class=\"toc-item-num\">3.2&nbsp;&nbsp;</span>Соотношение пользователей с подпиской и без подписки</a></span></li><li><span><a href=\"#Возраст-пользователей\" data-toc-modified-id=\"Возраст-пользователей-3.3\"><span class=\"toc-item-num\">3.3&nbsp;&nbsp;</span>Возраст пользователей</a></span></li><li><span><a href=\"#Расстояние,-которое-пользователь-преодолел-за-одну-поездку\" data-toc-modified-id=\"Расстояние,-которое-пользователь-преодолел-за-одну-поездку-3.4\"><span class=\"toc-item-num\">3.4&nbsp;&nbsp;</span>Расстояние, которое пользователь преодолел за одну поездку</a></span></li><li><span><a href=\"#Продолжительность-поездок\" data-toc-modified-id=\"Продолжительность-поездок-3.5\"><span class=\"toc-item-num\">3.5&nbsp;&nbsp;</span>Продолжительность поездок</a></span></li></ul></li><li><span><a href=\"#Объединение-данных\" data-toc-modified-id=\"Объединение-данных-4\"><span class=\"toc-item-num\">4&nbsp;&nbsp;</span>Объединение данных</a></span><ul class=\"toc-item\"><li><span><a href=\"#Объединение-данных-о-пользователях,-поездках-и-подписках-в-один-датафрейм.\" data-toc-modified-id=\"Объединение-данных-о-пользователях,-поездках-и-подписках-в-один-датафрейм.-4.1\"><span class=\"toc-item-num\">4.1&nbsp;&nbsp;</span>Объединение данных о пользователях, поездках и подписках в один датафрейм.</a></span></li><li><span><a href=\"#Создание-отдельных-датафреймов-с-данными-о-пользователях-с-подпиской-и-без-подписки.\" data-toc-modified-id=\"Создание-отдельных-датафреймов-с-данными-о-пользователях-с-подпиской-и-без-подписки.-4.2\"><span class=\"toc-item-num\">4.2&nbsp;&nbsp;</span>Создание отдельных датафреймов с данными о пользователях с подпиской и без подписки.</a></span></li><li><span><a href=\"#Визуализация-информации-о-расстоянии-и-времени-поездок-для-пользователей-обеих-категорий.\" data-toc-modified-id=\"Визуализация-информации-о-расстоянии-и-времени-поездок-для-пользователей-обеих-категорий.-4.3\"><span class=\"toc-item-num\">4.3&nbsp;&nbsp;</span>Визуализация информации о расстоянии и времени поездок для пользователей обеих категорий.</a></span></li></ul></li><li><span><a href=\"#Подсчёт-выручки\" data-toc-modified-id=\"Подсчёт-выручки-5\"><span class=\"toc-item-num\">5&nbsp;&nbsp;</span>Подсчёт выручки</a></span></li><li><span><a href=\"#Проверка-гипотез\" data-toc-modified-id=\"Проверка-гипотез-6\"><span class=\"toc-item-num\">6&nbsp;&nbsp;</span>Проверка гипотез</a></span><ul class=\"toc-item\"><li><span><a href=\"#Тратят-ли-пользователи-с-подпиской-больше-времени-на-поездки?\" data-toc-modified-id=\"Тратят-ли-пользователи-с-подпиской-больше-времени-на-поездки?-6.1\"><span class=\"toc-item-num\">6.1&nbsp;&nbsp;</span>Тратят ли пользователи с подпиской больше времени на поездки?</a></span></li><li><span><a href=\"#Превышает-ли-среднее-расстояние-поездки-пользователя-с-подпиской-оптимальное-с-точки-зрения-износа-самоката-расстояние?\" data-toc-modified-id=\"Превышает-ли-среднее-расстояние-поездки-пользователя-с-подпиской-оптимальное-с-точки-зрения-износа-самоката-расстояние?-6.2\"><span class=\"toc-item-num\">6.2&nbsp;&nbsp;</span>Превышает ли среднее расстояние поездки пользователя с подпиской оптимальное с точки зрения износа самоката расстояние?</a></span></li><li><span><a href=\"#Проверка-гипотезы-о-том,-будет-ли-помесячная-выручка-от-пользователей-с-подпиской,-чем-выручка-от-пользователей-без-подписки.\" data-toc-modified-id=\"Проверка-гипотезы-о-том,-будет-ли-помесячная-выручка-от-пользователей-с-подпиской,-чем-выручка-от-пользователей-без-подписки.-6.3\"><span class=\"toc-item-num\">6.3&nbsp;&nbsp;</span>Проверка гипотезы о том, будет ли помесячная выручка от пользователей с подпиской, чем выручка от пользователей без подписки.</a></span></li><li><span><a href=\"#Представим-такую-ситуацию:-техническая-команда-сервиса-обновила-сервера,-с-которыми-взаимодействует-мобильное-приложение.-Она-надеется,-что-из-за-этого-количество-обращений-в-техподдержку-значимо-снизилось.-Некоторый-файл-содержит-для-каждого-пользователя-данные-о-количестве-обращений-до-обновления-и-после-него.-Какой-тест-понадобился-бы-для-проверки-этой-гипотезы?\" data-toc-modified-id=\"Представим-такую-ситуацию:-техническая-команда-сервиса-обновила-сервера,-с-которыми-взаимодействует-мобильное-приложение.-Она-надеется,-что-из-за-этого-количество-обращений-в-техподдержку-значимо-снизилось.-Некоторый-файл-содержит-для-каждого-пользователя-данные-о-количестве-обращений-до-обновления-и-после-него.-Какой-тест-понадобился-бы-для-проверки-этой-гипотезы?-6.4\"><span class=\"toc-item-num\">6.4&nbsp;&nbsp;</span>Представим такую ситуацию: техническая команда сервиса обновила сервера, с которыми взаимодействует мобильное приложение. Она надеется, что из-за этого количество обращений в техподдержку значимо снизилось. Некоторый файл содержит для каждого пользователя данные о количестве обращений до обновления и после него. Какой тест понадобился бы для проверки этой гипотезы?</a></span></li></ul></li><li><span><a href=\"#Распределения\" data-toc-modified-id=\"Распределения-7\"><span class=\"toc-item-num\">7&nbsp;&nbsp;</span>Распределения</a></span><ul class=\"toc-item\"><li><span><a href=\"#Количество-промокодов.\" data-toc-modified-id=\"Количество-промокодов.-7.1\"><span class=\"toc-item-num\">7.1&nbsp;&nbsp;</span>Количество промокодов.</a></span></li><li><span><a href=\"#Оценить-вероятность-того,-что-уведомление-откроют-не-более-399,5-тыс.-пользователей\" data-toc-modified-id=\"Оценить-вероятность-того,-что-уведомление-откроют-не-более-399,5-тыс.-пользователей-7.2\"><span class=\"toc-item-num\">7.2&nbsp;&nbsp;</span>Оценить вероятность того, что уведомление откроют не более 399,5 тыс. пользователей</a></span></li></ul></li><li><span><a href=\"#Общий-вывод.\" data-toc-modified-id=\"Общий-вывод.-8\"><span class=\"toc-item-num\">8&nbsp;&nbsp;</span>Общий вывод.</a></span></li></ul></div>"
   ]
  },
  {
   "attachments": {},
   "cell_type": "markdown",
   "id": "5a4da78a",
   "metadata": {},
   "source": [
    "# Описание проекта\n",
    "\n",
    "В нашем распоряжении имеются данные о некоторых пользователях из нескольких городов, а также об их поездках.  \n",
    "Требуется проанализировать данные и проверить некоторые гипотезы, которые могут помочь бизнесу вырасти.\n",
    "\n",
    "Чтобы совершать поездки по городу, пользователи сервиса GoFast пользуются мобильным приложением.  \n",
    "Сервисом можно пользоваться:\n",
    "- без подписки \n",
    "    - абонентская плата отсутствует;  \n",
    "    - стоимость одной минуты поездки — 8 рублей;  \n",
    "    - стоимость старта (начала поездки) — 50 рублей;  \n",
    "- с подпиской Ultra  \n",
    "    - абонентская плата — 199 рублей в месяц;  \n",
    "    - стоимость одной минуты поездки — 6 рублей;  \n",
    "    - стоимость старта — бесплатно.  "
   ]
  },
  {
   "cell_type": "code",
   "execution_count": 1,
   "id": "72576667",
   "metadata": {},
   "outputs": [],
   "source": [
    "import matplotlib.patches as mpatches\n",
    "import matplotlib.pyplot as plt\n",
    "import numpy as np\n",
    "import os\n",
    "import pandas as pd\n",
    "import seaborn as sns\n",
    "\n",
    "from scipy import stats as st"
   ]
  },
  {
   "attachments": {},
   "cell_type": "markdown",
   "id": "646f9a29",
   "metadata": {},
   "source": [
    "## Загрузка данных"
   ]
  },
  {
   "cell_type": "code",
   "execution_count": 2,
   "id": "eff9f206",
   "metadata": {},
   "outputs": [],
   "source": [
    "def get_df(file_name):\n",
    "    path_to_file = os.path.relpath(os.path.join('datasets/', file_name))\n",
    "    if os.path.isfile(path_to_file):\n",
    "        return pd.read_csv(path_to_file)\n",
    "    raise Exception('Данные отсутствуют')"
   ]
  },
  {
   "cell_type": "code",
   "execution_count": 3,
   "id": "476ddd8a",
   "metadata": {},
   "outputs": [],
   "source": [
    "users_df = get_df('users_go.csv')\n",
    "rides_df = get_df('rides_go.csv')\n",
    "subscriptions_df = get_df('subscriptions_go.csv')"
   ]
  },
  {
   "cell_type": "code",
   "execution_count": 4,
   "id": "45075db8",
   "metadata": {},
   "outputs": [
    {
     "name": "stdout",
     "output_type": "stream",
     "text": [
      "<class 'pandas.core.frame.DataFrame'>\n",
      "RangeIndex: 1565 entries, 0 to 1564\n",
      "Data columns (total 5 columns):\n",
      " #   Column             Non-Null Count  Dtype \n",
      "---  ------             --------------  ----- \n",
      " 0   user_id            1565 non-null   int64 \n",
      " 1   name               1565 non-null   object\n",
      " 2   age                1565 non-null   int64 \n",
      " 3   city               1565 non-null   object\n",
      " 4   subscription_type  1565 non-null   object\n",
      "dtypes: int64(2), object(3)\n",
      "memory usage: 61.3+ KB\n"
     ]
    },
    {
     "data": {
      "text/html": [
       "<div>\n",
       "<style scoped>\n",
       "    .dataframe tbody tr th:only-of-type {\n",
       "        vertical-align: middle;\n",
       "    }\n",
       "\n",
       "    .dataframe tbody tr th {\n",
       "        vertical-align: top;\n",
       "    }\n",
       "\n",
       "    .dataframe thead th {\n",
       "        text-align: right;\n",
       "    }\n",
       "</style>\n",
       "<table border=\"1\" class=\"dataframe\">\n",
       "  <thead>\n",
       "    <tr style=\"text-align: right;\">\n",
       "      <th></th>\n",
       "      <th>user_id</th>\n",
       "      <th>name</th>\n",
       "      <th>age</th>\n",
       "      <th>city</th>\n",
       "      <th>subscription_type</th>\n",
       "    </tr>\n",
       "  </thead>\n",
       "  <tbody>\n",
       "    <tr>\n",
       "      <th>0</th>\n",
       "      <td>1</td>\n",
       "      <td>Кира</td>\n",
       "      <td>22</td>\n",
       "      <td>Тюмень</td>\n",
       "      <td>ultra</td>\n",
       "    </tr>\n",
       "    <tr>\n",
       "      <th>1</th>\n",
       "      <td>2</td>\n",
       "      <td>Станислав</td>\n",
       "      <td>31</td>\n",
       "      <td>Омск</td>\n",
       "      <td>ultra</td>\n",
       "    </tr>\n",
       "    <tr>\n",
       "      <th>2</th>\n",
       "      <td>3</td>\n",
       "      <td>Алексей</td>\n",
       "      <td>20</td>\n",
       "      <td>Москва</td>\n",
       "      <td>ultra</td>\n",
       "    </tr>\n",
       "    <tr>\n",
       "      <th>3</th>\n",
       "      <td>4</td>\n",
       "      <td>Константин</td>\n",
       "      <td>26</td>\n",
       "      <td>Ростов-на-Дону</td>\n",
       "      <td>ultra</td>\n",
       "    </tr>\n",
       "    <tr>\n",
       "      <th>4</th>\n",
       "      <td>5</td>\n",
       "      <td>Адель</td>\n",
       "      <td>28</td>\n",
       "      <td>Омск</td>\n",
       "      <td>ultra</td>\n",
       "    </tr>\n",
       "    <tr>\n",
       "      <th>5</th>\n",
       "      <td>6</td>\n",
       "      <td>Регина</td>\n",
       "      <td>25</td>\n",
       "      <td>Краснодар</td>\n",
       "      <td>ultra</td>\n",
       "    </tr>\n",
       "    <tr>\n",
       "      <th>6</th>\n",
       "      <td>7</td>\n",
       "      <td>Игорь</td>\n",
       "      <td>23</td>\n",
       "      <td>Омск</td>\n",
       "      <td>ultra</td>\n",
       "    </tr>\n",
       "    <tr>\n",
       "      <th>7</th>\n",
       "      <td>8</td>\n",
       "      <td>Юрий</td>\n",
       "      <td>23</td>\n",
       "      <td>Краснодар</td>\n",
       "      <td>ultra</td>\n",
       "    </tr>\n",
       "    <tr>\n",
       "      <th>8</th>\n",
       "      <td>9</td>\n",
       "      <td>Ян</td>\n",
       "      <td>21</td>\n",
       "      <td>Пятигорск</td>\n",
       "      <td>ultra</td>\n",
       "    </tr>\n",
       "    <tr>\n",
       "      <th>9</th>\n",
       "      <td>10</td>\n",
       "      <td>Валерий</td>\n",
       "      <td>18</td>\n",
       "      <td>Екатеринбург</td>\n",
       "      <td>ultra</td>\n",
       "    </tr>\n",
       "  </tbody>\n",
       "</table>\n",
       "</div>"
      ],
      "text/plain": [
       "   user_id        name  age            city subscription_type\n",
       "0        1        Кира   22          Тюмень             ultra\n",
       "1        2   Станислав   31            Омск             ultra\n",
       "2        3     Алексей   20          Москва             ultra\n",
       "3        4  Константин   26  Ростов-на-Дону             ultra\n",
       "4        5       Адель   28            Омск             ultra\n",
       "5        6      Регина   25       Краснодар             ultra\n",
       "6        7       Игорь   23            Омск             ultra\n",
       "7        8        Юрий   23       Краснодар             ultra\n",
       "8        9          Ян   21       Пятигорск             ultra\n",
       "9       10     Валерий   18    Екатеринбург             ultra"
      ]
     },
     "execution_count": 4,
     "metadata": {},
     "output_type": "execute_result"
    }
   ],
   "source": [
    "users_df.info()\n",
    "users_df.head(10)"
   ]
  },
  {
   "cell_type": "code",
   "execution_count": 5,
   "id": "a3d1638a",
   "metadata": {},
   "outputs": [
    {
     "name": "stdout",
     "output_type": "stream",
     "text": [
      "<class 'pandas.core.frame.DataFrame'>\n",
      "RangeIndex: 18068 entries, 0 to 18067\n",
      "Data columns (total 4 columns):\n",
      " #   Column    Non-Null Count  Dtype  \n",
      "---  ------    --------------  -----  \n",
      " 0   user_id   18068 non-null  int64  \n",
      " 1   distance  18068 non-null  float64\n",
      " 2   duration  18068 non-null  float64\n",
      " 3   date      18068 non-null  object \n",
      "dtypes: float64(2), int64(1), object(1)\n",
      "memory usage: 564.8+ KB\n"
     ]
    },
    {
     "data": {
      "text/html": [
       "<div>\n",
       "<style scoped>\n",
       "    .dataframe tbody tr th:only-of-type {\n",
       "        vertical-align: middle;\n",
       "    }\n",
       "\n",
       "    .dataframe tbody tr th {\n",
       "        vertical-align: top;\n",
       "    }\n",
       "\n",
       "    .dataframe thead th {\n",
       "        text-align: right;\n",
       "    }\n",
       "</style>\n",
       "<table border=\"1\" class=\"dataframe\">\n",
       "  <thead>\n",
       "    <tr style=\"text-align: right;\">\n",
       "      <th></th>\n",
       "      <th>user_id</th>\n",
       "      <th>distance</th>\n",
       "      <th>duration</th>\n",
       "      <th>date</th>\n",
       "    </tr>\n",
       "  </thead>\n",
       "  <tbody>\n",
       "    <tr>\n",
       "      <th>0</th>\n",
       "      <td>1</td>\n",
       "      <td>4409.919140</td>\n",
       "      <td>25.599769</td>\n",
       "      <td>2021-01-01</td>\n",
       "    </tr>\n",
       "    <tr>\n",
       "      <th>1</th>\n",
       "      <td>1</td>\n",
       "      <td>2617.592153</td>\n",
       "      <td>15.816871</td>\n",
       "      <td>2021-01-18</td>\n",
       "    </tr>\n",
       "    <tr>\n",
       "      <th>2</th>\n",
       "      <td>1</td>\n",
       "      <td>754.159807</td>\n",
       "      <td>6.232113</td>\n",
       "      <td>2021-04-20</td>\n",
       "    </tr>\n",
       "    <tr>\n",
       "      <th>3</th>\n",
       "      <td>1</td>\n",
       "      <td>2694.783254</td>\n",
       "      <td>18.511000</td>\n",
       "      <td>2021-08-11</td>\n",
       "    </tr>\n",
       "    <tr>\n",
       "      <th>4</th>\n",
       "      <td>1</td>\n",
       "      <td>4028.687306</td>\n",
       "      <td>26.265803</td>\n",
       "      <td>2021-08-28</td>\n",
       "    </tr>\n",
       "    <tr>\n",
       "      <th>5</th>\n",
       "      <td>1</td>\n",
       "      <td>2770.890808</td>\n",
       "      <td>16.650138</td>\n",
       "      <td>2021-10-09</td>\n",
       "    </tr>\n",
       "    <tr>\n",
       "      <th>6</th>\n",
       "      <td>1</td>\n",
       "      <td>3039.020292</td>\n",
       "      <td>14.927879</td>\n",
       "      <td>2021-10-19</td>\n",
       "    </tr>\n",
       "    <tr>\n",
       "      <th>7</th>\n",
       "      <td>1</td>\n",
       "      <td>2842.118050</td>\n",
       "      <td>23.117468</td>\n",
       "      <td>2021-11-06</td>\n",
       "    </tr>\n",
       "    <tr>\n",
       "      <th>8</th>\n",
       "      <td>1</td>\n",
       "      <td>3412.690668</td>\n",
       "      <td>15.238072</td>\n",
       "      <td>2021-11-14</td>\n",
       "    </tr>\n",
       "    <tr>\n",
       "      <th>9</th>\n",
       "      <td>1</td>\n",
       "      <td>748.690645</td>\n",
       "      <td>15.041884</td>\n",
       "      <td>2021-11-22</td>\n",
       "    </tr>\n",
       "  </tbody>\n",
       "</table>\n",
       "</div>"
      ],
      "text/plain": [
       "   user_id     distance   duration        date\n",
       "0        1  4409.919140  25.599769  2021-01-01\n",
       "1        1  2617.592153  15.816871  2021-01-18\n",
       "2        1   754.159807   6.232113  2021-04-20\n",
       "3        1  2694.783254  18.511000  2021-08-11\n",
       "4        1  4028.687306  26.265803  2021-08-28\n",
       "5        1  2770.890808  16.650138  2021-10-09\n",
       "6        1  3039.020292  14.927879  2021-10-19\n",
       "7        1  2842.118050  23.117468  2021-11-06\n",
       "8        1  3412.690668  15.238072  2021-11-14\n",
       "9        1   748.690645  15.041884  2021-11-22"
      ]
     },
     "execution_count": 5,
     "metadata": {},
     "output_type": "execute_result"
    }
   ],
   "source": [
    "rides_df.info()\n",
    "rides_df.head(10)"
   ]
  },
  {
   "cell_type": "code",
   "execution_count": 6,
   "id": "9e017f84",
   "metadata": {},
   "outputs": [
    {
     "name": "stdout",
     "output_type": "stream",
     "text": [
      "<class 'pandas.core.frame.DataFrame'>\n",
      "RangeIndex: 2 entries, 0 to 1\n",
      "Data columns (total 4 columns):\n",
      " #   Column             Non-Null Count  Dtype \n",
      "---  ------             --------------  ----- \n",
      " 0   subscription_type  2 non-null      object\n",
      " 1   minute_price       2 non-null      int64 \n",
      " 2   start_ride_price   2 non-null      int64 \n",
      " 3   subscription_fee   2 non-null      int64 \n",
      "dtypes: int64(3), object(1)\n",
      "memory usage: 192.0+ bytes\n"
     ]
    },
    {
     "data": {
      "text/html": [
       "<div>\n",
       "<style scoped>\n",
       "    .dataframe tbody tr th:only-of-type {\n",
       "        vertical-align: middle;\n",
       "    }\n",
       "\n",
       "    .dataframe tbody tr th {\n",
       "        vertical-align: top;\n",
       "    }\n",
       "\n",
       "    .dataframe thead th {\n",
       "        text-align: right;\n",
       "    }\n",
       "</style>\n",
       "<table border=\"1\" class=\"dataframe\">\n",
       "  <thead>\n",
       "    <tr style=\"text-align: right;\">\n",
       "      <th></th>\n",
       "      <th>subscription_type</th>\n",
       "      <th>minute_price</th>\n",
       "      <th>start_ride_price</th>\n",
       "      <th>subscription_fee</th>\n",
       "    </tr>\n",
       "  </thead>\n",
       "  <tbody>\n",
       "    <tr>\n",
       "      <th>0</th>\n",
       "      <td>free</td>\n",
       "      <td>8</td>\n",
       "      <td>50</td>\n",
       "      <td>0</td>\n",
       "    </tr>\n",
       "    <tr>\n",
       "      <th>1</th>\n",
       "      <td>ultra</td>\n",
       "      <td>6</td>\n",
       "      <td>0</td>\n",
       "      <td>199</td>\n",
       "    </tr>\n",
       "  </tbody>\n",
       "</table>\n",
       "</div>"
      ],
      "text/plain": [
       "  subscription_type  minute_price  start_ride_price  subscription_fee\n",
       "0              free             8                50                 0\n",
       "1             ultra             6                 0               199"
      ]
     },
     "execution_count": 6,
     "metadata": {},
     "output_type": "execute_result"
    }
   ],
   "source": [
    "subscriptions_df.info()\n",
    "subscriptions_df.head(10)"
   ]
  },
  {
   "attachments": {},
   "cell_type": "markdown",
   "id": "80bfe06a",
   "metadata": {},
   "source": [
    "**Вывод:**  \n",
    "- загружены 3 набора данных:  \n",
    "    - `users_go.csv` содержит информацию о пользователях;  \n",
    "    - `rides_go.csv` – информация о поездках;  \n",
    "    - `subscriptions_go.csv` – информация о подписках;  \n",
    "- наибольшее количество записей содержит набор данных с информацией о поездках (18068);\n",
    "- пропуски в загруженных наборах отсутствуют."
   ]
  },
  {
   "attachments": {},
   "cell_type": "markdown",
   "id": "e4165559",
   "metadata": {},
   "source": [
    "## Предобработка данных"
   ]
  },
  {
   "cell_type": "code",
   "execution_count": 7,
   "id": "02418a80",
   "metadata": {},
   "outputs": [
    {
     "data": {
      "text/html": [
       "<div>\n",
       "<style scoped>\n",
       "    .dataframe tbody tr th:only-of-type {\n",
       "        vertical-align: middle;\n",
       "    }\n",
       "\n",
       "    .dataframe tbody tr th {\n",
       "        vertical-align: top;\n",
       "    }\n",
       "\n",
       "    .dataframe thead th {\n",
       "        text-align: right;\n",
       "    }\n",
       "</style>\n",
       "<table border=\"1\" class=\"dataframe\">\n",
       "  <thead>\n",
       "    <tr style=\"text-align: right;\">\n",
       "      <th></th>\n",
       "      <th>user_id</th>\n",
       "      <th>distance</th>\n",
       "      <th>duration</th>\n",
       "      <th>date</th>\n",
       "    </tr>\n",
       "  </thead>\n",
       "  <tbody>\n",
       "    <tr>\n",
       "      <th>0</th>\n",
       "      <td>1</td>\n",
       "      <td>4409.919140</td>\n",
       "      <td>25.599769</td>\n",
       "      <td>2021-01-01</td>\n",
       "    </tr>\n",
       "    <tr>\n",
       "      <th>1</th>\n",
       "      <td>1</td>\n",
       "      <td>2617.592153</td>\n",
       "      <td>15.816871</td>\n",
       "      <td>2021-01-18</td>\n",
       "    </tr>\n",
       "    <tr>\n",
       "      <th>2</th>\n",
       "      <td>1</td>\n",
       "      <td>754.159807</td>\n",
       "      <td>6.232113</td>\n",
       "      <td>2021-04-20</td>\n",
       "    </tr>\n",
       "  </tbody>\n",
       "</table>\n",
       "</div>"
      ],
      "text/plain": [
       "   user_id     distance   duration       date\n",
       "0        1  4409.919140  25.599769 2021-01-01\n",
       "1        1  2617.592153  15.816871 2021-01-18\n",
       "2        1   754.159807   6.232113 2021-04-20"
      ]
     },
     "execution_count": 7,
     "metadata": {},
     "output_type": "execute_result"
    }
   ],
   "source": [
    "rides_df['date'] = pd.to_datetime(rides_df['date'], format='%Y-%m-%d')\n",
    "rides_df.head(3)"
   ]
  },
  {
   "cell_type": "code",
   "execution_count": 8,
   "id": "d324a5dc",
   "metadata": {},
   "outputs": [
    {
     "data": {
      "text/plain": [
       "array([ 1,  4,  8, 10, 11, 12,  3,  6,  7,  2,  5,  9], dtype=int64)"
      ]
     },
     "execution_count": 8,
     "metadata": {},
     "output_type": "execute_result"
    }
   ],
   "source": [
    "rides_df['month'] = rides_df['date'].dt.month\n",
    "rides_df['month'].unique()"
   ]
  },
  {
   "cell_type": "code",
   "execution_count": 9,
   "id": "af6d202c",
   "metadata": {},
   "outputs": [
    {
     "data": {
      "text/html": [
       "<div>\n",
       "<style scoped>\n",
       "    .dataframe tbody tr th:only-of-type {\n",
       "        vertical-align: middle;\n",
       "    }\n",
       "\n",
       "    .dataframe tbody tr th {\n",
       "        vertical-align: top;\n",
       "    }\n",
       "\n",
       "    .dataframe thead th {\n",
       "        text-align: right;\n",
       "    }\n",
       "</style>\n",
       "<table border=\"1\" class=\"dataframe\">\n",
       "  <thead>\n",
       "    <tr style=\"text-align: right;\">\n",
       "      <th></th>\n",
       "      <th>user_id</th>\n",
       "      <th>name</th>\n",
       "      <th>age</th>\n",
       "      <th>city</th>\n",
       "      <th>subscription_type</th>\n",
       "    </tr>\n",
       "  </thead>\n",
       "  <tbody>\n",
       "    <tr>\n",
       "      <th>15</th>\n",
       "      <td>16</td>\n",
       "      <td>Амалия</td>\n",
       "      <td>27</td>\n",
       "      <td>Краснодар</td>\n",
       "      <td>ultra</td>\n",
       "    </tr>\n",
       "    <tr>\n",
       "      <th>1535</th>\n",
       "      <td>16</td>\n",
       "      <td>Амалия</td>\n",
       "      <td>27</td>\n",
       "      <td>Краснодар</td>\n",
       "      <td>ultra</td>\n",
       "    </tr>\n",
       "    <tr>\n",
       "      <th>42</th>\n",
       "      <td>43</td>\n",
       "      <td>Стефания</td>\n",
       "      <td>22</td>\n",
       "      <td>Омск</td>\n",
       "      <td>ultra</td>\n",
       "    </tr>\n",
       "    <tr>\n",
       "      <th>1539</th>\n",
       "      <td>43</td>\n",
       "      <td>Стефания</td>\n",
       "      <td>22</td>\n",
       "      <td>Омск</td>\n",
       "      <td>ultra</td>\n",
       "    </tr>\n",
       "    <tr>\n",
       "      <th>1563</th>\n",
       "      <td>47</td>\n",
       "      <td>Юрий</td>\n",
       "      <td>28</td>\n",
       "      <td>Тюмень</td>\n",
       "      <td>ultra</td>\n",
       "    </tr>\n",
       "    <tr>\n",
       "      <th>...</th>\n",
       "      <td>...</td>\n",
       "      <td>...</td>\n",
       "      <td>...</td>\n",
       "      <td>...</td>\n",
       "      <td>...</td>\n",
       "    </tr>\n",
       "    <tr>\n",
       "      <th>1554</th>\n",
       "      <td>1198</td>\n",
       "      <td>Демид</td>\n",
       "      <td>29</td>\n",
       "      <td>Ростов-на-Дону</td>\n",
       "      <td>free</td>\n",
       "    </tr>\n",
       "    <tr>\n",
       "      <th>1558</th>\n",
       "      <td>1237</td>\n",
       "      <td>Евгения</td>\n",
       "      <td>23</td>\n",
       "      <td>Тюмень</td>\n",
       "      <td>free</td>\n",
       "    </tr>\n",
       "    <tr>\n",
       "      <th>1236</th>\n",
       "      <td>1237</td>\n",
       "      <td>Евгения</td>\n",
       "      <td>23</td>\n",
       "      <td>Тюмень</td>\n",
       "      <td>free</td>\n",
       "    </tr>\n",
       "    <tr>\n",
       "      <th>1544</th>\n",
       "      <td>1245</td>\n",
       "      <td>Регина</td>\n",
       "      <td>27</td>\n",
       "      <td>Пятигорск</td>\n",
       "      <td>free</td>\n",
       "    </tr>\n",
       "    <tr>\n",
       "      <th>1244</th>\n",
       "      <td>1245</td>\n",
       "      <td>Регина</td>\n",
       "      <td>27</td>\n",
       "      <td>Пятигорск</td>\n",
       "      <td>free</td>\n",
       "    </tr>\n",
       "  </tbody>\n",
       "</table>\n",
       "<p>62 rows × 5 columns</p>\n",
       "</div>"
      ],
      "text/plain": [
       "      user_id      name  age            city subscription_type\n",
       "15         16    Амалия   27       Краснодар             ultra\n",
       "1535       16    Амалия   27       Краснодар             ultra\n",
       "42         43  Стефания   22            Омск             ultra\n",
       "1539       43  Стефания   22            Омск             ultra\n",
       "1563       47      Юрий   28          Тюмень             ultra\n",
       "...       ...       ...  ...             ...               ...\n",
       "1554     1198     Демид   29  Ростов-на-Дону              free\n",
       "1558     1237   Евгения   23          Тюмень              free\n",
       "1236     1237   Евгения   23          Тюмень              free\n",
       "1544     1245    Регина   27       Пятигорск              free\n",
       "1244     1245    Регина   27       Пятигорск              free\n",
       "\n",
       "[62 rows x 5 columns]"
      ]
     },
     "execution_count": 9,
     "metadata": {},
     "output_type": "execute_result"
    }
   ],
   "source": [
    "users_df[users_df.duplicated(keep=False)].sort_values(by='user_id')"
   ]
  },
  {
   "attachments": {},
   "cell_type": "markdown",
   "id": "956e35c8",
   "metadata": {},
   "source": [
    "В наборе данных с информацией о пользователях содержатся явные дубликаты.  \n",
    "Перед объединением таблиц дубликаты следует устранить."
   ]
  },
  {
   "cell_type": "code",
   "execution_count": 10,
   "id": "2a58588f",
   "metadata": {},
   "outputs": [
    {
     "data": {
      "text/plain": [
       "0"
      ]
     },
     "execution_count": 10,
     "metadata": {},
     "output_type": "execute_result"
    }
   ],
   "source": [
    "users_df = users_df.drop_duplicates(keep='first')\n",
    "users_df.duplicated().sum()"
   ]
  },
  {
   "attachments": {},
   "cell_type": "markdown",
   "id": "8ffa0d88",
   "metadata": {},
   "source": [
    "Убедимся, что в таблице `users_df` сохранились только уникальные значения `user_id`."
   ]
  },
  {
   "cell_type": "code",
   "execution_count": 11,
   "id": "4eeb5f8d",
   "metadata": {},
   "outputs": [
    {
     "data": {
      "text/plain": [
       "True"
      ]
     },
     "execution_count": 11,
     "metadata": {},
     "output_type": "execute_result"
    }
   ],
   "source": [
    "users_df['user_id'].nunique() == users_df.shape[0]"
   ]
  },
  {
   "cell_type": "code",
   "execution_count": 12,
   "id": "271227b9",
   "metadata": {},
   "outputs": [
    {
     "data": {
      "text/plain": [
       "0"
      ]
     },
     "execution_count": 12,
     "metadata": {},
     "output_type": "execute_result"
    }
   ],
   "source": [
    "rides_df.duplicated().sum()"
   ]
  },
  {
   "attachments": {},
   "cell_type": "markdown",
   "id": "20a36bd8",
   "metadata": {},
   "source": [
    "В `rides_go.csv` явные дубликаты отсутствуют."
   ]
  },
  {
   "attachments": {},
   "cell_type": "markdown",
   "id": "f50864a0",
   "metadata": {},
   "source": [
    "**Вывод:**  \n",
    "- строковые значения в столбце `date` преобразованы в даты;\n",
    "- добавлен новый столбец с номером месяца, извлечённом из даты;\n",
    "- устранены явные дубликаты в наборе данных, содержащем информацию о пользователях;\n",
    "- явные дубликаты в `rides_df` и `subscriptions_df` отсутствуют."
   ]
  },
  {
   "attachments": {},
   "cell_type": "markdown",
   "id": "0202dcfe",
   "metadata": {},
   "source": [
    "## Исследовательский анализ данных"
   ]
  },
  {
   "attachments": {},
   "cell_type": "markdown",
   "id": "4d5fb22a",
   "metadata": {},
   "source": [
    "### Частота встречаемости городов"
   ]
  },
  {
   "cell_type": "code",
   "execution_count": 13,
   "id": "e3a4274c",
   "metadata": {},
   "outputs": [
    {
     "data": {
      "image/png": "[encoded data removed]",
      "text/plain": [
       "<Figure size 1000x500 with 1 Axes>"
      ]
     },
     "metadata": {},
     "output_type": "display_data"
    }
   ],
   "source": [
    "cities = users_df.pivot_table(index='city', aggfunc={'user_id': 'count'})\n",
    "cities.columns = ['count']\n",
    "cities = cities.sort_values(by='count', ascending=False)\n",
    "\n",
    "ax = sns.barplot(data=cities, x='count', y=cities.index,\n",
    "                 hue='count', palette='Blues', dodge=False)\n",
    "plt.gcf().set_size_inches(10, 5)\n",
    "ax.legend_.remove()\n",
    "\n",
    "\n",
    "for p in ax.patches:\n",
    "    ax.annotate(f'{p.get_width():.0f}',\n",
    "                xy=(p.get_width(), p.get_y()+p.get_height()/2),\n",
    "                xytext=(1, 0), textcoords='offset points',\n",
    "                ha='left', va='center')\n",
    "plt.ylabel('Город')\n",
    "plt.xlabel('Количество пользователей')\n",
    "plt.title('Список городов по числу пользователей')\n",
    "plt.show()"
   ]
  },
  {
   "attachments": {},
   "cell_type": "markdown",
   "id": "b084733f",
   "metadata": {},
   "source": [
    "Наибольшее количество пользователей - из Пятигорска, наименьшее - из Москвы."
   ]
  },
  {
   "attachments": {},
   "cell_type": "markdown",
   "id": "53b32109",
   "metadata": {},
   "source": [
    "### Соотношение пользователей с подпиской и без подписки"
   ]
  },
  {
   "cell_type": "code",
   "execution_count": 14,
   "id": "98cc633c",
   "metadata": {},
   "outputs": [
    {
     "data": {
      "image/png": "[encoded data removed]",
      "text/plain": [
       "<Figure size 800x400 with 1 Axes>"
      ]
     },
     "metadata": {},
     "output_type": "display_data"
    }
   ],
   "source": [
    "users_df['subscription_type'].value_counts(normalize=True)\n",
    "temp = users_df.pivot_table(index='subscription_type', values='user_id',\n",
    "                           aggfunc='count', margins=True)\n",
    "temp.columns = ['count']\n",
    "temp['percentage'] = temp.apply(\n",
    "    lambda x: (x.values / temp.loc['All', 'count'] * 100).round(2)\n",
    ")\n",
    "temp = temp.drop('All', axis=0)\n",
    "\n",
    "plt.figure(figsize=(8, 4))\n",
    "ax = sns.barplot(data=temp, x=temp.index, y='count',\n",
    "                 hue='count', dodge=False, alpha=0.3)\n",
    "\n",
    "patches = ax.patches[1::-1]\n",
    "for item, value in zip(patches, temp['percentage']):\n",
    "    plt.annotate(f'{value}%',\n",
    "                 (item.get_x() + item.get_width() / 3, item.get_height()+0.4),\n",
    "                 fontsize=12)\n",
    "ax.set_xlabel('Тип подписки')\n",
    "ax.set_ylabel('Количество пользователей')\n",
    "ax.set_title('Соотношение пользователей с подпиской и без подписки')\n",
    "ax.legend(bbox_to_anchor=(1, 1), title='Количество')\n",
    "ax.grid(True, alpha=0.3)"
   ]
  },
  {
   "attachments": {},
   "cell_type": "markdown",
   "id": "8dcf9762",
   "metadata": {},
   "source": [
    "Доля пользователей с подпиской составляет примерно 46%.  \n",
    "Чуть большее количество клиентов (примерно 54%) пользуются сервисом без подписки."
   ]
  },
  {
   "cell_type": "code",
   "execution_count": 15,
   "id": "a4a64b1b",
   "metadata": {},
   "outputs": [],
   "source": [
    "hist_dict = {\n",
    "    'age': ('Распределение возраста пользователей',\n",
    "            'Количество пользователей', 'Возраст'),\n",
    "    'distance': ('Распределение расстояния поездки',\n",
    "                 'Количество поездок',\n",
    "                 'Расстояние поездки (в метрах)'),\n",
    "    'duration': ('Распределение продолжительности поездки',\n",
    "                 'Количество поездок',\n",
    "                 'Продолжительность поездки (в минутах)')\n",
    "}\n",
    "\n",
    "\n",
    "def get_histogram(data, col, f_size=(15, 3), bins_num=20):\n",
    "    title = hist_dict[col][0]\n",
    "    median = data[col].median()\n",
    "    mean = data[col].mean()\n",
    "    plt.figure(figsize=f_size)\n",
    "    histogram = sns.histplot(data[col], bins=bins_num,\n",
    "                             edgecolor='white', kde=True)\n",
    "    plt.axvline(x=median, c='r',\n",
    "                label=f'Медиана: {median:.0f}')\n",
    "    plt.axvline(x=mean, c='r', ls='--',\n",
    "                label=f'Среднее: {mean:.0f}')\n",
    "    plt.title(title)\n",
    "    plt.legend(loc='upper right')\n",
    "    plt.ylabel(hist_dict[col][1])\n",
    "    plt.xlabel(hist_dict[col][2])\n",
    "    plt.grid(True, alpha=.3)\n",
    "    return histogram"
   ]
  },
  {
   "attachments": {},
   "cell_type": "markdown",
   "id": "74c11b6a",
   "metadata": {},
   "source": [
    "### Возраст пользователей"
   ]
  },
  {
   "cell_type": "code",
   "execution_count": 16,
   "id": "ef8d16df",
   "metadata": {},
   "outputs": [
    {
     "data": {
      "text/html": [
       "<div>\n",
       "<style scoped>\n",
       "    .dataframe tbody tr th:only-of-type {\n",
       "        vertical-align: middle;\n",
       "    }\n",
       "\n",
       "    .dataframe tbody tr th {\n",
       "        vertical-align: top;\n",
       "    }\n",
       "\n",
       "    .dataframe thead th {\n",
       "        text-align: right;\n",
       "    }\n",
       "</style>\n",
       "<table border=\"1\" class=\"dataframe\">\n",
       "  <thead>\n",
       "    <tr style=\"text-align: right;\">\n",
       "      <th></th>\n",
       "      <th>count</th>\n",
       "      <th>mean</th>\n",
       "      <th>std</th>\n",
       "      <th>min</th>\n",
       "      <th>25%</th>\n",
       "      <th>50%</th>\n",
       "      <th>75%</th>\n",
       "      <th>max</th>\n",
       "    </tr>\n",
       "  </thead>\n",
       "  <tbody>\n",
       "    <tr>\n",
       "      <th>age</th>\n",
       "      <td>1534.0</td>\n",
       "      <td>24.90352</td>\n",
       "      <td>4.572367</td>\n",
       "      <td>12.0</td>\n",
       "      <td>22.0</td>\n",
       "      <td>25.0</td>\n",
       "      <td>28.0</td>\n",
       "      <td>43.0</td>\n",
       "    </tr>\n",
       "  </tbody>\n",
       "</table>\n",
       "</div>"
      ],
      "text/plain": [
       "      count      mean       std   min   25%   50%   75%   max\n",
       "age  1534.0  24.90352  4.572367  12.0  22.0  25.0  28.0  43.0"
      ]
     },
     "execution_count": 16,
     "metadata": {},
     "output_type": "execute_result"
    },
    {
     "data": {
      "image/png": "[encoded data removed]",
      "text/plain": [
       "<Figure size 1500x300 with 1 Axes>"
      ]
     },
     "metadata": {},
     "output_type": "display_data"
    }
   ],
   "source": [
    "get_histogram(users_df, 'age', bins_num=32)\n",
    "plt.xticks(range(12, 44))\n",
    "users_df[['age']].describe().T"
   ]
  },
  {
   "attachments": {},
   "cell_type": "markdown",
   "id": "1be38eb8",
   "metadata": {},
   "source": [
    "Основную часть клиентов составляют пользователи в возрасте от 18 до 33 лет включительно.  \n",
    "Распределение близко к нормальному.  "
   ]
  },
  {
   "attachments": {},
   "cell_type": "markdown",
   "id": "8290d3e9",
   "metadata": {},
   "source": [
    "### Расстояние, которое пользователь преодолел за одну поездку"
   ]
  },
  {
   "cell_type": "code",
   "execution_count": 17,
   "id": "fef21e9a",
   "metadata": {},
   "outputs": [
    {
     "data": {
      "text/html": [
       "<div>\n",
       "<style scoped>\n",
       "    .dataframe tbody tr th:only-of-type {\n",
       "        vertical-align: middle;\n",
       "    }\n",
       "\n",
       "    .dataframe tbody tr th {\n",
       "        vertical-align: top;\n",
       "    }\n",
       "\n",
       "    .dataframe thead th {\n",
       "        text-align: right;\n",
       "    }\n",
       "</style>\n",
       "<table border=\"1\" class=\"dataframe\">\n",
       "  <thead>\n",
       "    <tr style=\"text-align: right;\">\n",
       "      <th></th>\n",
       "      <th>count</th>\n",
       "      <th>mean</th>\n",
       "      <th>std</th>\n",
       "      <th>min</th>\n",
       "      <th>25%</th>\n",
       "      <th>50%</th>\n",
       "      <th>75%</th>\n",
       "      <th>max</th>\n",
       "    </tr>\n",
       "  </thead>\n",
       "  <tbody>\n",
       "    <tr>\n",
       "      <th>distance</th>\n",
       "      <td>18068.0</td>\n",
       "      <td>3070.659976</td>\n",
       "      <td>1116.831209</td>\n",
       "      <td>0.855683</td>\n",
       "      <td>2543.22636</td>\n",
       "      <td>3133.609994</td>\n",
       "      <td>3776.222735</td>\n",
       "      <td>7211.007745</td>\n",
       "    </tr>\n",
       "  </tbody>\n",
       "</table>\n",
       "</div>"
      ],
      "text/plain": [
       "            count         mean          std       min         25%  \\\n",
       "distance  18068.0  3070.659976  1116.831209  0.855683  2543.22636   \n",
       "\n",
       "                  50%          75%          max  \n",
       "distance  3133.609994  3776.222735  7211.007745  "
      ]
     },
     "execution_count": 17,
     "metadata": {},
     "output_type": "execute_result"
    },
    {
     "data": {
      "image/png": "[encoded data removed]",
      "text/plain": [
       "<Figure size 1500x300 with 1 Axes>"
      ]
     },
     "metadata": {},
     "output_type": "display_data"
    }
   ],
   "source": [
    "get_histogram(rides_df, 'distance', bins_num=200)\n",
    "ticks_max = rides_df['distance'].max()\n",
    "plt.xticks(np.arange(0, ticks_max, 300))\n",
    "rides_df[['distance']].describe().T"
   ]
  },
  {
   "attachments": {},
   "cell_type": "markdown",
   "id": "490cb4ca",
   "metadata": {},
   "source": [
    "Основная часть поездок не превышает 5000 метров.  \n",
    "На гистограмме присутствует небольшой пик в районе 600-700 метров.  \n",
    "Одной из причин заметного числа коротких поездок могло быть использование электросамоката  \n",
    "для решения рутинных задач: добраться от остановки до места назначения, доехать до магазина и так далее."
   ]
  },
  {
   "attachments": {},
   "cell_type": "markdown",
   "id": "a128eb67",
   "metadata": {},
   "source": [
    "### Продолжительность поездок"
   ]
  },
  {
   "cell_type": "code",
   "execution_count": 18,
   "id": "b56e81cc",
   "metadata": {},
   "outputs": [
    {
     "data": {
      "text/html": [
       "<div>\n",
       "<style scoped>\n",
       "    .dataframe tbody tr th:only-of-type {\n",
       "        vertical-align: middle;\n",
       "    }\n",
       "\n",
       "    .dataframe tbody tr th {\n",
       "        vertical-align: top;\n",
       "    }\n",
       "\n",
       "    .dataframe thead th {\n",
       "        text-align: right;\n",
       "    }\n",
       "</style>\n",
       "<table border=\"1\" class=\"dataframe\">\n",
       "  <thead>\n",
       "    <tr style=\"text-align: right;\">\n",
       "      <th></th>\n",
       "      <th>count</th>\n",
       "      <th>mean</th>\n",
       "      <th>std</th>\n",
       "      <th>min</th>\n",
       "      <th>25%</th>\n",
       "      <th>50%</th>\n",
       "      <th>75%</th>\n",
       "      <th>max</th>\n",
       "    </tr>\n",
       "  </thead>\n",
       "  <tbody>\n",
       "    <tr>\n",
       "      <th>duration</th>\n",
       "      <td>18068.0</td>\n",
       "      <td>17.805011</td>\n",
       "      <td>6.091051</td>\n",
       "      <td>0.5</td>\n",
       "      <td>13.597563</td>\n",
       "      <td>17.678395</td>\n",
       "      <td>21.7248</td>\n",
       "      <td>40.823963</td>\n",
       "    </tr>\n",
       "  </tbody>\n",
       "</table>\n",
       "</div>"
      ],
      "text/plain": [
       "            count       mean       std  min        25%        50%      75%  \\\n",
       "duration  18068.0  17.805011  6.091051  0.5  13.597563  17.678395  21.7248   \n",
       "\n",
       "                max  \n",
       "duration  40.823963  "
      ]
     },
     "execution_count": 18,
     "metadata": {},
     "output_type": "execute_result"
    },
    {
     "data": {
      "image/png": "[encoded data removed]",
      "text/plain": [
       "<Figure size 1500x300 with 1 Axes>"
      ]
     },
     "metadata": {},
     "output_type": "display_data"
    }
   ],
   "source": [
    "get_histogram(rides_df, 'duration', bins_num=100)\n",
    "plt.xticks(range(0, 41))\n",
    "rides_df[['duration']].describe().T"
   ]
  },
  {
   "cell_type": "code",
   "execution_count": 19,
   "id": "99fec5e7",
   "metadata": {},
   "outputs": [
    {
     "data": {
      "text/html": [
       "<div>\n",
       "<style scoped>\n",
       "    .dataframe tbody tr th:only-of-type {\n",
       "        vertical-align: middle;\n",
       "    }\n",
       "\n",
       "    .dataframe tbody tr th {\n",
       "        vertical-align: top;\n",
       "    }\n",
       "\n",
       "    .dataframe thead th {\n",
       "        text-align: right;\n",
       "    }\n",
       "</style>\n",
       "<table border=\"1\" class=\"dataframe\">\n",
       "  <thead>\n",
       "    <tr style=\"text-align: right;\">\n",
       "      <th></th>\n",
       "      <th>count</th>\n",
       "      <th>mean</th>\n",
       "      <th>std</th>\n",
       "      <th>min</th>\n",
       "      <th>25%</th>\n",
       "      <th>50%</th>\n",
       "      <th>75%</th>\n",
       "      <th>max</th>\n",
       "    </tr>\n",
       "  </thead>\n",
       "  <tbody>\n",
       "    <tr>\n",
       "      <th>distance</th>\n",
       "      <td>95.0</td>\n",
       "      <td>5113.176549</td>\n",
       "      <td>658.254104</td>\n",
       "      <td>4030.308008</td>\n",
       "      <td>4611.51082</td>\n",
       "      <td>5052.769411</td>\n",
       "      <td>5488.459099</td>\n",
       "      <td>7211.007745</td>\n",
       "    </tr>\n",
       "    <tr>\n",
       "      <th>month</th>\n",
       "      <td>95.0</td>\n",
       "      <td>6.484211</td>\n",
       "      <td>3.709858</td>\n",
       "      <td>1.000000</td>\n",
       "      <td>3.00000</td>\n",
       "      <td>6.000000</td>\n",
       "      <td>10.000000</td>\n",
       "      <td>12.000000</td>\n",
       "    </tr>\n",
       "  </tbody>\n",
       "</table>\n",
       "</div>"
      ],
      "text/plain": [
       "          count         mean         std          min         25%  \\\n",
       "distance   95.0  5113.176549  658.254104  4030.308008  4611.51082   \n",
       "month      95.0     6.484211    3.709858     1.000000     3.00000   \n",
       "\n",
       "                  50%          75%          max  \n",
       "distance  5052.769411  5488.459099  7211.007745  \n",
       "month        6.000000    10.000000    12.000000  "
      ]
     },
     "metadata": {},
     "output_type": "display_data"
    },
    {
     "data": {
      "text/plain": [
       "array(['free'], dtype=object)"
      ]
     },
     "execution_count": 19,
     "metadata": {},
     "output_type": "execute_result"
    }
   ],
   "source": [
    "display(rides_df.query('duration == 0.5')[['distance', 'month']].describe().T)\n",
    "users_df.loc[\n",
    "    users_df['user_id']\n",
    "    .isin(rides_df.query('duration == 0.5')['user_id']),\n",
    "     'subscription_type'\n",
    "].unique()"
   ]
  },
  {
   "attachments": {},
   "cell_type": "markdown",
   "id": "479c2ec7",
   "metadata": {},
   "source": [
    "Основная часть поездок длилась не более 30-ти минут.  \n",
    "Распределение близко к нормальному.  \n",
    "Для 95-ти поездок, несмотря на большую дистанцию, указана аномально короткая продолжительность – 30 секунд.  \n",
    "Возможно, аномалии связаны с проведением промоакции с бесплатными поездками.  \n",
    "Удалим аномальные значения."
   ]
  },
  {
   "cell_type": "code",
   "execution_count": 20,
   "id": "18342cdf",
   "metadata": {},
   "outputs": [],
   "source": [
    "rides_df.drop(rides_df.query('duration == 0.5').index, axis=0,\n",
    "              inplace=True)\n",
    "rides_df = rides_df.reset_index(drop=True)"
   ]
  },
  {
   "attachments": {},
   "cell_type": "markdown",
   "id": "5f7a4cca",
   "metadata": {},
   "source": [
    "## Объединение данных"
   ]
  },
  {
   "attachments": {},
   "cell_type": "markdown",
   "id": "237b1cd4",
   "metadata": {},
   "source": [
    "### Объединение данных о пользователях, поездках и подписках в один датафрейм."
   ]
  },
  {
   "cell_type": "code",
   "execution_count": 21,
   "id": "6bf288b5",
   "metadata": {},
   "outputs": [
    {
     "data": {
      "text/plain": [
       "set()"
      ]
     },
     "execution_count": 21,
     "metadata": {},
     "output_type": "execute_result"
    }
   ],
   "source": [
    "set(rides_df['user_id']).difference(users_df['user_id'])"
   ]
  },
  {
   "cell_type": "code",
   "execution_count": 22,
   "id": "b3e8ff4d",
   "metadata": {},
   "outputs": [],
   "source": [
    "df = rides_df.merge(users_df, on='user_id', how='left')\n",
    "df = df.merge(subscriptions_df, on='subscription_type', how='left')"
   ]
  },
  {
   "attachments": {},
   "cell_type": "markdown",
   "id": "e10d5d8c",
   "metadata": {},
   "source": [
    "Проверяем, что все значения из исходных наборов данных попали в итоговую таблицу."
   ]
  },
  {
   "cell_type": "code",
   "execution_count": 23,
   "id": "9b2917cb",
   "metadata": {},
   "outputs": [
    {
     "name": "stdout",
     "output_type": "stream",
     "text": [
      "True\n",
      "True\n"
     ]
    },
    {
     "data": {
      "text/html": [
       "<div>\n",
       "<style scoped>\n",
       "    .dataframe tbody tr th:only-of-type {\n",
       "        vertical-align: middle;\n",
       "    }\n",
       "\n",
       "    .dataframe tbody tr th {\n",
       "        vertical-align: top;\n",
       "    }\n",
       "\n",
       "    .dataframe thead th {\n",
       "        text-align: right;\n",
       "    }\n",
       "</style>\n",
       "<table border=\"1\" class=\"dataframe\">\n",
       "  <thead>\n",
       "    <tr style=\"text-align: right;\">\n",
       "      <th></th>\n",
       "      <th>user_id</th>\n",
       "      <th>distance</th>\n",
       "      <th>duration</th>\n",
       "      <th>date</th>\n",
       "      <th>month</th>\n",
       "      <th>name</th>\n",
       "      <th>age</th>\n",
       "      <th>city</th>\n",
       "      <th>subscription_type</th>\n",
       "      <th>minute_price</th>\n",
       "      <th>start_ride_price</th>\n",
       "      <th>subscription_fee</th>\n",
       "    </tr>\n",
       "  </thead>\n",
       "  <tbody>\n",
       "    <tr>\n",
       "      <th>0</th>\n",
       "      <td>1</td>\n",
       "      <td>4409.919140</td>\n",
       "      <td>25.599769</td>\n",
       "      <td>2021-01-01</td>\n",
       "      <td>1</td>\n",
       "      <td>Кира</td>\n",
       "      <td>22</td>\n",
       "      <td>Тюмень</td>\n",
       "      <td>ultra</td>\n",
       "      <td>6</td>\n",
       "      <td>0</td>\n",
       "      <td>199</td>\n",
       "    </tr>\n",
       "    <tr>\n",
       "      <th>6500</th>\n",
       "      <td>700</td>\n",
       "      <td>2515.690719</td>\n",
       "      <td>14.944286</td>\n",
       "      <td>2021-01-02</td>\n",
       "      <td>1</td>\n",
       "      <td>Айдар</td>\n",
       "      <td>22</td>\n",
       "      <td>Омск</td>\n",
       "      <td>free</td>\n",
       "      <td>8</td>\n",
       "      <td>50</td>\n",
       "      <td>0</td>\n",
       "    </tr>\n",
       "  </tbody>\n",
       "</table>\n",
       "</div>"
      ],
      "text/plain": [
       "      user_id     distance   duration       date  month   name  age    city  \\\n",
       "0           1  4409.919140  25.599769 2021-01-01      1   Кира   22  Тюмень   \n",
       "6500      700  2515.690719  14.944286 2021-01-02      1  Айдар   22    Омск   \n",
       "\n",
       "     subscription_type  minute_price  start_ride_price  subscription_fee  \n",
       "0                ultra             6                 0               199  \n",
       "6500              free             8                50                 0  "
      ]
     },
     "execution_count": 23,
     "metadata": {},
     "output_type": "execute_result"
    }
   ],
   "source": [
    "print(\n",
    "    df[['user_id', 'distance', 'duration', 'date', 'month']].equals(rides_df)\n",
    ")\n",
    "print(\n",
    "    df[['user_id', 'name', 'age', 'city', 'subscription_type']]\n",
    "    .drop_duplicates().reset_index(drop=True).sort_values(by='user_id')\n",
    "    .equals(users_df)\n",
    ")\n",
    "df.drop_duplicates(subset=['subscription_type'])"
   ]
  },
  {
   "cell_type": "code",
   "execution_count": 24,
   "id": "805c3d09",
   "metadata": {},
   "outputs": [
    {
     "name": "stdout",
     "output_type": "stream",
     "text": [
      "<class 'pandas.core.frame.DataFrame'>\n",
      "Int64Index: 17973 entries, 0 to 17972\n",
      "Data columns (total 12 columns):\n",
      " #   Column             Non-Null Count  Dtype         \n",
      "---  ------             --------------  -----         \n",
      " 0   user_id            17973 non-null  int64         \n",
      " 1   distance           17973 non-null  float64       \n",
      " 2   duration           17973 non-null  float64       \n",
      " 3   date               17973 non-null  datetime64[ns]\n",
      " 4   month              17973 non-null  int64         \n",
      " 5   name               17973 non-null  object        \n",
      " 6   age                17973 non-null  int64         \n",
      " 7   city               17973 non-null  object        \n",
      " 8   subscription_type  17973 non-null  object        \n",
      " 9   minute_price       17973 non-null  int64         \n",
      " 10  start_ride_price   17973 non-null  int64         \n",
      " 11  subscription_fee   17973 non-null  int64         \n",
      "dtypes: datetime64[ns](1), float64(2), int64(6), object(3)\n",
      "memory usage: 1.8+ MB\n"
     ]
    },
    {
     "data": {
      "text/html": [
       "<div>\n",
       "<style scoped>\n",
       "    .dataframe tbody tr th:only-of-type {\n",
       "        vertical-align: middle;\n",
       "    }\n",
       "\n",
       "    .dataframe tbody tr th {\n",
       "        vertical-align: top;\n",
       "    }\n",
       "\n",
       "    .dataframe thead th {\n",
       "        text-align: right;\n",
       "    }\n",
       "</style>\n",
       "<table border=\"1\" class=\"dataframe\">\n",
       "  <thead>\n",
       "    <tr style=\"text-align: right;\">\n",
       "      <th></th>\n",
       "      <th>user_id</th>\n",
       "      <th>distance</th>\n",
       "      <th>duration</th>\n",
       "      <th>date</th>\n",
       "      <th>month</th>\n",
       "      <th>name</th>\n",
       "      <th>age</th>\n",
       "      <th>city</th>\n",
       "      <th>subscription_type</th>\n",
       "      <th>minute_price</th>\n",
       "      <th>start_ride_price</th>\n",
       "      <th>subscription_fee</th>\n",
       "    </tr>\n",
       "  </thead>\n",
       "  <tbody>\n",
       "    <tr>\n",
       "      <th>12763</th>\n",
       "      <td>1162</td>\n",
       "      <td>2676.158972</td>\n",
       "      <td>20.035596</td>\n",
       "      <td>2021-05-27</td>\n",
       "      <td>5</td>\n",
       "      <td>Вера</td>\n",
       "      <td>14</td>\n",
       "      <td>Ростов-на-Дону</td>\n",
       "      <td>free</td>\n",
       "      <td>8</td>\n",
       "      <td>50</td>\n",
       "      <td>0</td>\n",
       "    </tr>\n",
       "    <tr>\n",
       "      <th>3428</th>\n",
       "      <td>369</td>\n",
       "      <td>3375.343387</td>\n",
       "      <td>18.983469</td>\n",
       "      <td>2021-11-09</td>\n",
       "      <td>11</td>\n",
       "      <td>Ариана</td>\n",
       "      <td>22</td>\n",
       "      <td>Екатеринбург</td>\n",
       "      <td>ultra</td>\n",
       "      <td>6</td>\n",
       "      <td>0</td>\n",
       "      <td>199</td>\n",
       "    </tr>\n",
       "    <tr>\n",
       "      <th>15130</th>\n",
       "      <td>1330</td>\n",
       "      <td>1450.046103</td>\n",
       "      <td>17.250231</td>\n",
       "      <td>2021-10-27</td>\n",
       "      <td>10</td>\n",
       "      <td>Лиана</td>\n",
       "      <td>22</td>\n",
       "      <td>Москва</td>\n",
       "      <td>free</td>\n",
       "      <td>8</td>\n",
       "      <td>50</td>\n",
       "      <td>0</td>\n",
       "    </tr>\n",
       "    <tr>\n",
       "      <th>8617</th>\n",
       "      <td>859</td>\n",
       "      <td>3333.977405</td>\n",
       "      <td>18.113258</td>\n",
       "      <td>2021-12-15</td>\n",
       "      <td>12</td>\n",
       "      <td>Глеб</td>\n",
       "      <td>23</td>\n",
       "      <td>Москва</td>\n",
       "      <td>free</td>\n",
       "      <td>8</td>\n",
       "      <td>50</td>\n",
       "      <td>0</td>\n",
       "    </tr>\n",
       "    <tr>\n",
       "      <th>16713</th>\n",
       "      <td>1443</td>\n",
       "      <td>759.034580</td>\n",
       "      <td>5.897586</td>\n",
       "      <td>2021-09-17</td>\n",
       "      <td>9</td>\n",
       "      <td>Виктория</td>\n",
       "      <td>23</td>\n",
       "      <td>Сочи</td>\n",
       "      <td>free</td>\n",
       "      <td>8</td>\n",
       "      <td>50</td>\n",
       "      <td>0</td>\n",
       "    </tr>\n",
       "    <tr>\n",
       "      <th>416</th>\n",
       "      <td>45</td>\n",
       "      <td>3346.734826</td>\n",
       "      <td>28.733674</td>\n",
       "      <td>2021-02-19</td>\n",
       "      <td>2</td>\n",
       "      <td>Дмитрий</td>\n",
       "      <td>31</td>\n",
       "      <td>Ростов-на-Дону</td>\n",
       "      <td>ultra</td>\n",
       "      <td>6</td>\n",
       "      <td>0</td>\n",
       "      <td>199</td>\n",
       "    </tr>\n",
       "    <tr>\n",
       "      <th>650</th>\n",
       "      <td>71</td>\n",
       "      <td>2948.993790</td>\n",
       "      <td>20.425697</td>\n",
       "      <td>2021-03-16</td>\n",
       "      <td>3</td>\n",
       "      <td>Тимур</td>\n",
       "      <td>31</td>\n",
       "      <td>Сочи</td>\n",
       "      <td>ultra</td>\n",
       "      <td>6</td>\n",
       "      <td>0</td>\n",
       "      <td>199</td>\n",
       "    </tr>\n",
       "    <tr>\n",
       "      <th>11042</th>\n",
       "      <td>1034</td>\n",
       "      <td>3108.396045</td>\n",
       "      <td>17.216792</td>\n",
       "      <td>2021-10-28</td>\n",
       "      <td>10</td>\n",
       "      <td>Камилла</td>\n",
       "      <td>27</td>\n",
       "      <td>Краснодар</td>\n",
       "      <td>free</td>\n",
       "      <td>8</td>\n",
       "      <td>50</td>\n",
       "      <td>0</td>\n",
       "    </tr>\n",
       "    <tr>\n",
       "      <th>2533</th>\n",
       "      <td>268</td>\n",
       "      <td>2532.578492</td>\n",
       "      <td>12.235939</td>\n",
       "      <td>2021-10-04</td>\n",
       "      <td>10</td>\n",
       "      <td>Виктория</td>\n",
       "      <td>24</td>\n",
       "      <td>Тюмень</td>\n",
       "      <td>ultra</td>\n",
       "      <td>6</td>\n",
       "      <td>0</td>\n",
       "      <td>199</td>\n",
       "    </tr>\n",
       "    <tr>\n",
       "      <th>1372</th>\n",
       "      <td>148</td>\n",
       "      <td>2622.440142</td>\n",
       "      <td>19.867320</td>\n",
       "      <td>2021-02-18</td>\n",
       "      <td>2</td>\n",
       "      <td>Данил</td>\n",
       "      <td>18</td>\n",
       "      <td>Екатеринбург</td>\n",
       "      <td>ultra</td>\n",
       "      <td>6</td>\n",
       "      <td>0</td>\n",
       "      <td>199</td>\n",
       "    </tr>\n",
       "    <tr>\n",
       "      <th>10123</th>\n",
       "      <td>968</td>\n",
       "      <td>426.896414</td>\n",
       "      <td>12.883234</td>\n",
       "      <td>2021-05-15</td>\n",
       "      <td>5</td>\n",
       "      <td>Павел</td>\n",
       "      <td>35</td>\n",
       "      <td>Краснодар</td>\n",
       "      <td>free</td>\n",
       "      <td>8</td>\n",
       "      <td>50</td>\n",
       "      <td>0</td>\n",
       "    </tr>\n",
       "    <tr>\n",
       "      <th>5570</th>\n",
       "      <td>593</td>\n",
       "      <td>4009.011656</td>\n",
       "      <td>16.590739</td>\n",
       "      <td>2021-04-06</td>\n",
       "      <td>4</td>\n",
       "      <td>Марк</td>\n",
       "      <td>21</td>\n",
       "      <td>Пятигорск</td>\n",
       "      <td>ultra</td>\n",
       "      <td>6</td>\n",
       "      <td>0</td>\n",
       "      <td>199</td>\n",
       "    </tr>\n",
       "    <tr>\n",
       "      <th>12960</th>\n",
       "      <td>1177</td>\n",
       "      <td>2876.620622</td>\n",
       "      <td>15.328374</td>\n",
       "      <td>2021-02-15</td>\n",
       "      <td>2</td>\n",
       "      <td>Варвара</td>\n",
       "      <td>27</td>\n",
       "      <td>Ростов-на-Дону</td>\n",
       "      <td>free</td>\n",
       "      <td>8</td>\n",
       "      <td>50</td>\n",
       "      <td>0</td>\n",
       "    </tr>\n",
       "    <tr>\n",
       "      <th>5158</th>\n",
       "      <td>555</td>\n",
       "      <td>4072.723065</td>\n",
       "      <td>20.636352</td>\n",
       "      <td>2021-04-18</td>\n",
       "      <td>4</td>\n",
       "      <td>Ксения</td>\n",
       "      <td>25</td>\n",
       "      <td>Сочи</td>\n",
       "      <td>ultra</td>\n",
       "      <td>6</td>\n",
       "      <td>0</td>\n",
       "      <td>199</td>\n",
       "    </tr>\n",
       "    <tr>\n",
       "      <th>8657</th>\n",
       "      <td>863</td>\n",
       "      <td>2581.748783</td>\n",
       "      <td>13.745246</td>\n",
       "      <td>2021-04-26</td>\n",
       "      <td>4</td>\n",
       "      <td>Лилия</td>\n",
       "      <td>32</td>\n",
       "      <td>Пятигорск</td>\n",
       "      <td>free</td>\n",
       "      <td>8</td>\n",
       "      <td>50</td>\n",
       "      <td>0</td>\n",
       "    </tr>\n",
       "    <tr>\n",
       "      <th>12680</th>\n",
       "      <td>1156</td>\n",
       "      <td>2774.019420</td>\n",
       "      <td>27.870097</td>\n",
       "      <td>2021-07-26</td>\n",
       "      <td>7</td>\n",
       "      <td>Эвелина</td>\n",
       "      <td>33</td>\n",
       "      <td>Тюмень</td>\n",
       "      <td>free</td>\n",
       "      <td>8</td>\n",
       "      <td>50</td>\n",
       "      <td>0</td>\n",
       "    </tr>\n",
       "    <tr>\n",
       "      <th>13748</th>\n",
       "      <td>1232</td>\n",
       "      <td>3142.456769</td>\n",
       "      <td>23.474856</td>\n",
       "      <td>2021-07-02</td>\n",
       "      <td>7</td>\n",
       "      <td>Ариана</td>\n",
       "      <td>28</td>\n",
       "      <td>Москва</td>\n",
       "      <td>free</td>\n",
       "      <td>8</td>\n",
       "      <td>50</td>\n",
       "      <td>0</td>\n",
       "    </tr>\n",
       "    <tr>\n",
       "      <th>97</th>\n",
       "      <td>9</td>\n",
       "      <td>3672.893449</td>\n",
       "      <td>12.475908</td>\n",
       "      <td>2021-10-30</td>\n",
       "      <td>10</td>\n",
       "      <td>Ян</td>\n",
       "      <td>21</td>\n",
       "      <td>Пятигорск</td>\n",
       "      <td>ultra</td>\n",
       "      <td>6</td>\n",
       "      <td>0</td>\n",
       "      <td>199</td>\n",
       "    </tr>\n",
       "    <tr>\n",
       "      <th>7911</th>\n",
       "      <td>804</td>\n",
       "      <td>2582.640026</td>\n",
       "      <td>16.737322</td>\n",
       "      <td>2021-02-08</td>\n",
       "      <td>2</td>\n",
       "      <td>Тамерлан</td>\n",
       "      <td>24</td>\n",
       "      <td>Пятигорск</td>\n",
       "      <td>free</td>\n",
       "      <td>8</td>\n",
       "      <td>50</td>\n",
       "      <td>0</td>\n",
       "    </tr>\n",
       "    <tr>\n",
       "      <th>16648</th>\n",
       "      <td>1438</td>\n",
       "      <td>2399.592044</td>\n",
       "      <td>20.855977</td>\n",
       "      <td>2021-08-22</td>\n",
       "      <td>8</td>\n",
       "      <td>Тамара</td>\n",
       "      <td>30</td>\n",
       "      <td>Пятигорск</td>\n",
       "      <td>free</td>\n",
       "      <td>8</td>\n",
       "      <td>50</td>\n",
       "      <td>0</td>\n",
       "    </tr>\n",
       "  </tbody>\n",
       "</table>\n",
       "</div>"
      ],
      "text/plain": [
       "       user_id     distance   duration       date  month      name  age  \\\n",
       "12763     1162  2676.158972  20.035596 2021-05-27      5      Вера   14   \n",
       "3428       369  3375.343387  18.983469 2021-11-09     11    Ариана   22   \n",
       "15130     1330  1450.046103  17.250231 2021-10-27     10     Лиана   22   \n",
       "8617       859  3333.977405  18.113258 2021-12-15     12      Глеб   23   \n",
       "16713     1443   759.034580   5.897586 2021-09-17      9  Виктория   23   \n",
       "416         45  3346.734826  28.733674 2021-02-19      2   Дмитрий   31   \n",
       "650         71  2948.993790  20.425697 2021-03-16      3     Тимур   31   \n",
       "11042     1034  3108.396045  17.216792 2021-10-28     10   Камилла   27   \n",
       "2533       268  2532.578492  12.235939 2021-10-04     10  Виктория   24   \n",
       "1372       148  2622.440142  19.867320 2021-02-18      2     Данил   18   \n",
       "10123      968   426.896414  12.883234 2021-05-15      5     Павел   35   \n",
       "5570       593  4009.011656  16.590739 2021-04-06      4      Марк   21   \n",
       "12960     1177  2876.620622  15.328374 2021-02-15      2   Варвара   27   \n",
       "5158       555  4072.723065  20.636352 2021-04-18      4    Ксения   25   \n",
       "8657       863  2581.748783  13.745246 2021-04-26      4     Лилия   32   \n",
       "12680     1156  2774.019420  27.870097 2021-07-26      7   Эвелина   33   \n",
       "13748     1232  3142.456769  23.474856 2021-07-02      7    Ариана   28   \n",
       "97           9  3672.893449  12.475908 2021-10-30     10        Ян   21   \n",
       "7911       804  2582.640026  16.737322 2021-02-08      2  Тамерлан   24   \n",
       "16648     1438  2399.592044  20.855977 2021-08-22      8    Тамара   30   \n",
       "\n",
       "                 city subscription_type  minute_price  start_ride_price  \\\n",
       "12763  Ростов-на-Дону              free             8                50   \n",
       "3428     Екатеринбург             ultra             6                 0   \n",
       "15130          Москва              free             8                50   \n",
       "8617           Москва              free             8                50   \n",
       "16713            Сочи              free             8                50   \n",
       "416    Ростов-на-Дону             ultra             6                 0   \n",
       "650              Сочи             ultra             6                 0   \n",
       "11042       Краснодар              free             8                50   \n",
       "2533           Тюмень             ultra             6                 0   \n",
       "1372     Екатеринбург             ultra             6                 0   \n",
       "10123       Краснодар              free             8                50   \n",
       "5570        Пятигорск             ultra             6                 0   \n",
       "12960  Ростов-на-Дону              free             8                50   \n",
       "5158             Сочи             ultra             6                 0   \n",
       "8657        Пятигорск              free             8                50   \n",
       "12680          Тюмень              free             8                50   \n",
       "13748          Москва              free             8                50   \n",
       "97          Пятигорск             ultra             6                 0   \n",
       "7911        Пятигорск              free             8                50   \n",
       "16648       Пятигорск              free             8                50   \n",
       "\n",
       "       subscription_fee  \n",
       "12763                 0  \n",
       "3428                199  \n",
       "15130                 0  \n",
       "8617                  0  \n",
       "16713                 0  \n",
       "416                 199  \n",
       "650                 199  \n",
       "11042                 0  \n",
       "2533                199  \n",
       "1372                199  \n",
       "10123                 0  \n",
       "5570                199  \n",
       "12960                 0  \n",
       "5158                199  \n",
       "8657                  0  \n",
       "12680                 0  \n",
       "13748                 0  \n",
       "97                  199  \n",
       "7911                  0  \n",
       "16648                 0  "
      ]
     },
     "execution_count": 24,
     "metadata": {},
     "output_type": "execute_result"
    }
   ],
   "source": [
    "df.info()\n",
    "df.sample(20)"
   ]
  },
  {
   "attachments": {},
   "cell_type": "markdown",
   "id": "6052f026",
   "metadata": {},
   "source": [
    "### Создание отдельных датафреймов с данными о пользователях с подпиской и без подписки."
   ]
  },
  {
   "cell_type": "code",
   "execution_count": 25,
   "id": "41c78fd2",
   "metadata": {},
   "outputs": [
    {
     "name": "stdout",
     "output_type": "stream",
     "text": [
      "free    11473\n",
      "Name: subscription_type, dtype: int64\n"
     ]
    },
    {
     "data": {
      "text/html": [
       "<div>\n",
       "<style scoped>\n",
       "    .dataframe tbody tr th:only-of-type {\n",
       "        vertical-align: middle;\n",
       "    }\n",
       "\n",
       "    .dataframe tbody tr th {\n",
       "        vertical-align: top;\n",
       "    }\n",
       "\n",
       "    .dataframe thead th {\n",
       "        text-align: right;\n",
       "    }\n",
       "</style>\n",
       "<table border=\"1\" class=\"dataframe\">\n",
       "  <thead>\n",
       "    <tr style=\"text-align: right;\">\n",
       "      <th></th>\n",
       "      <th>user_id</th>\n",
       "      <th>distance</th>\n",
       "      <th>duration</th>\n",
       "      <th>date</th>\n",
       "      <th>month</th>\n",
       "      <th>name</th>\n",
       "      <th>age</th>\n",
       "      <th>city</th>\n",
       "      <th>subscription_type</th>\n",
       "      <th>minute_price</th>\n",
       "      <th>start_ride_price</th>\n",
       "      <th>subscription_fee</th>\n",
       "    </tr>\n",
       "  </thead>\n",
       "  <tbody>\n",
       "    <tr>\n",
       "      <th>11277</th>\n",
       "      <td>1052</td>\n",
       "      <td>691.562498</td>\n",
       "      <td>11.440809</td>\n",
       "      <td>2021-08-20</td>\n",
       "      <td>8</td>\n",
       "      <td>Вячеслав</td>\n",
       "      <td>27</td>\n",
       "      <td>Пятигорск</td>\n",
       "      <td>free</td>\n",
       "      <td>8</td>\n",
       "      <td>50</td>\n",
       "      <td>0</td>\n",
       "    </tr>\n",
       "    <tr>\n",
       "      <th>13074</th>\n",
       "      <td>1185</td>\n",
       "      <td>3505.914907</td>\n",
       "      <td>27.025350</td>\n",
       "      <td>2021-05-13</td>\n",
       "      <td>5</td>\n",
       "      <td>Александр</td>\n",
       "      <td>20</td>\n",
       "      <td>Ростов-на-Дону</td>\n",
       "      <td>free</td>\n",
       "      <td>8</td>\n",
       "      <td>50</td>\n",
       "      <td>0</td>\n",
       "    </tr>\n",
       "    <tr>\n",
       "      <th>13501</th>\n",
       "      <td>1214</td>\n",
       "      <td>4764.515550</td>\n",
       "      <td>23.434837</td>\n",
       "      <td>2021-09-29</td>\n",
       "      <td>9</td>\n",
       "      <td>Савелий</td>\n",
       "      <td>25</td>\n",
       "      <td>Ростов-на-Дону</td>\n",
       "      <td>free</td>\n",
       "      <td>8</td>\n",
       "      <td>50</td>\n",
       "      <td>0</td>\n",
       "    </tr>\n",
       "    <tr>\n",
       "      <th>12794</th>\n",
       "      <td>1163</td>\n",
       "      <td>413.580537</td>\n",
       "      <td>5.378602</td>\n",
       "      <td>2021-12-19</td>\n",
       "      <td>12</td>\n",
       "      <td>Денис</td>\n",
       "      <td>32</td>\n",
       "      <td>Пятигорск</td>\n",
       "      <td>free</td>\n",
       "      <td>8</td>\n",
       "      <td>50</td>\n",
       "      <td>0</td>\n",
       "    </tr>\n",
       "    <tr>\n",
       "      <th>7185</th>\n",
       "      <td>747</td>\n",
       "      <td>1925.733769</td>\n",
       "      <td>11.252001</td>\n",
       "      <td>2021-11-20</td>\n",
       "      <td>11</td>\n",
       "      <td>Адель</td>\n",
       "      <td>25</td>\n",
       "      <td>Екатеринбург</td>\n",
       "      <td>free</td>\n",
       "      <td>8</td>\n",
       "      <td>50</td>\n",
       "      <td>0</td>\n",
       "    </tr>\n",
       "  </tbody>\n",
       "</table>\n",
       "</div>"
      ],
      "text/plain": [
       "       user_id     distance   duration       date  month       name  age  \\\n",
       "11277     1052   691.562498  11.440809 2021-08-20      8   Вячеслав   27   \n",
       "13074     1185  3505.914907  27.025350 2021-05-13      5  Александр   20   \n",
       "13501     1214  4764.515550  23.434837 2021-09-29      9    Савелий   25   \n",
       "12794     1163   413.580537   5.378602 2021-12-19     12      Денис   32   \n",
       "7185       747  1925.733769  11.252001 2021-11-20     11      Адель   25   \n",
       "\n",
       "                 city subscription_type  minute_price  start_ride_price  \\\n",
       "11277       Пятигорск              free             8                50   \n",
       "13074  Ростов-на-Дону              free             8                50   \n",
       "13501  Ростов-на-Дону              free             8                50   \n",
       "12794       Пятигорск              free             8                50   \n",
       "7185     Екатеринбург              free             8                50   \n",
       "\n",
       "       subscription_fee  \n",
       "11277                 0  \n",
       "13074                 0  \n",
       "13501                 0  \n",
       "12794                 0  \n",
       "7185                  0  "
      ]
     },
     "metadata": {},
     "output_type": "display_data"
    },
    {
     "name": "stdout",
     "output_type": "stream",
     "text": [
      "ultra    6500\n",
      "Name: subscription_type, dtype: int64\n"
     ]
    },
    {
     "data": {
      "text/html": [
       "<div>\n",
       "<style scoped>\n",
       "    .dataframe tbody tr th:only-of-type {\n",
       "        vertical-align: middle;\n",
       "    }\n",
       "\n",
       "    .dataframe tbody tr th {\n",
       "        vertical-align: top;\n",
       "    }\n",
       "\n",
       "    .dataframe thead th {\n",
       "        text-align: right;\n",
       "    }\n",
       "</style>\n",
       "<table border=\"1\" class=\"dataframe\">\n",
       "  <thead>\n",
       "    <tr style=\"text-align: right;\">\n",
       "      <th></th>\n",
       "      <th>user_id</th>\n",
       "      <th>distance</th>\n",
       "      <th>duration</th>\n",
       "      <th>date</th>\n",
       "      <th>month</th>\n",
       "      <th>name</th>\n",
       "      <th>age</th>\n",
       "      <th>city</th>\n",
       "      <th>subscription_type</th>\n",
       "      <th>minute_price</th>\n",
       "      <th>start_ride_price</th>\n",
       "      <th>subscription_fee</th>\n",
       "    </tr>\n",
       "  </thead>\n",
       "  <tbody>\n",
       "    <tr>\n",
       "      <th>2954</th>\n",
       "      <td>317</td>\n",
       "      <td>4014.336898</td>\n",
       "      <td>20.168248</td>\n",
       "      <td>2021-03-30</td>\n",
       "      <td>3</td>\n",
       "      <td>Лариса</td>\n",
       "      <td>28</td>\n",
       "      <td>Москва</td>\n",
       "      <td>ultra</td>\n",
       "      <td>6</td>\n",
       "      <td>0</td>\n",
       "      <td>199</td>\n",
       "    </tr>\n",
       "    <tr>\n",
       "      <th>5475</th>\n",
       "      <td>584</td>\n",
       "      <td>3935.271597</td>\n",
       "      <td>15.141941</td>\n",
       "      <td>2021-08-17</td>\n",
       "      <td>8</td>\n",
       "      <td>Ольга</td>\n",
       "      <td>27</td>\n",
       "      <td>Краснодар</td>\n",
       "      <td>ultra</td>\n",
       "      <td>6</td>\n",
       "      <td>0</td>\n",
       "      <td>199</td>\n",
       "    </tr>\n",
       "    <tr>\n",
       "      <th>4067</th>\n",
       "      <td>438</td>\n",
       "      <td>3559.155933</td>\n",
       "      <td>15.677468</td>\n",
       "      <td>2021-01-16</td>\n",
       "      <td>1</td>\n",
       "      <td>Вероника</td>\n",
       "      <td>29</td>\n",
       "      <td>Екатеринбург</td>\n",
       "      <td>ultra</td>\n",
       "      <td>6</td>\n",
       "      <td>0</td>\n",
       "      <td>199</td>\n",
       "    </tr>\n",
       "    <tr>\n",
       "      <th>952</th>\n",
       "      <td>101</td>\n",
       "      <td>2872.678677</td>\n",
       "      <td>15.772545</td>\n",
       "      <td>2021-12-20</td>\n",
       "      <td>12</td>\n",
       "      <td>Ника</td>\n",
       "      <td>28</td>\n",
       "      <td>Москва</td>\n",
       "      <td>ultra</td>\n",
       "      <td>6</td>\n",
       "      <td>0</td>\n",
       "      <td>199</td>\n",
       "    </tr>\n",
       "    <tr>\n",
       "      <th>4470</th>\n",
       "      <td>482</td>\n",
       "      <td>3282.031521</td>\n",
       "      <td>15.377233</td>\n",
       "      <td>2021-05-17</td>\n",
       "      <td>5</td>\n",
       "      <td>Ясмина</td>\n",
       "      <td>22</td>\n",
       "      <td>Пятигорск</td>\n",
       "      <td>ultra</td>\n",
       "      <td>6</td>\n",
       "      <td>0</td>\n",
       "      <td>199</td>\n",
       "    </tr>\n",
       "  </tbody>\n",
       "</table>\n",
       "</div>"
      ],
      "text/plain": [
       "      user_id     distance   duration       date  month      name  age  \\\n",
       "2954      317  4014.336898  20.168248 2021-03-30      3    Лариса   28   \n",
       "5475      584  3935.271597  15.141941 2021-08-17      8     Ольга   27   \n",
       "4067      438  3559.155933  15.677468 2021-01-16      1  Вероника   29   \n",
       "952       101  2872.678677  15.772545 2021-12-20     12      Ника   28   \n",
       "4470      482  3282.031521  15.377233 2021-05-17      5    Ясмина   22   \n",
       "\n",
       "              city subscription_type  minute_price  start_ride_price  \\\n",
       "2954        Москва             ultra             6                 0   \n",
       "5475     Краснодар             ultra             6                 0   \n",
       "4067  Екатеринбург             ultra             6                 0   \n",
       "952         Москва             ultra             6                 0   \n",
       "4470     Пятигорск             ultra             6                 0   \n",
       "\n",
       "      subscription_fee  \n",
       "2954               199  \n",
       "5475               199  \n",
       "4067               199  \n",
       "952                199  \n",
       "4470               199  "
      ]
     },
     "execution_count": 25,
     "metadata": {},
     "output_type": "execute_result"
    }
   ],
   "source": [
    "free_df = df.query('subscription_type == \"free\"').copy()\n",
    "ultra_df = df.loc[~df.index.isin(free_df.index)].copy()\n",
    "\n",
    "print(free_df['subscription_type'].value_counts())\n",
    "display(free_df.sample(5))\n",
    "print(ultra_df['subscription_type'].value_counts())\n",
    "ultra_df.sample(5)"
   ]
  },
  {
   "attachments": {},
   "cell_type": "markdown",
   "id": "ecb8a038",
   "metadata": {},
   "source": [
    "### Визуализация информации о расстоянии и времени поездок для пользователей обеих категорий."
   ]
  },
  {
   "cell_type": "code",
   "execution_count": 26,
   "id": "5d84f892",
   "metadata": {},
   "outputs": [],
   "source": [
    "def free_ultra_histograms(col, bins_num=100):\n",
    "    titles = {'distance': 'расстояний', 'duration': 'продолжительности'}\n",
    "    \n",
    "    plt.figure(figsize=(15, 4))\n",
    "\n",
    "    ax1 = sns.histplot(free_df[col], color='sandybrown', bins=100, alpha=.3,\n",
    "                       edgecolor='white', label='  без подписки', kde=True)\n",
    "    median = free_df[col].median()\n",
    "    mean = free_df[col].mean()\n",
    "    ax1.axvline(x=median, c='r',\n",
    "                label=f'  медиана: {median:.0f}')\n",
    "    ax1.axvline(x=mean, c='r', ls='--',\n",
    "                label=f'\\n  среднее: {mean:.0f}\\n')\n",
    "\n",
    "    ax2 = sns.histplot(ultra_df[col], edgecolor='white',\n",
    "                       label='  с подпиской',\n",
    "                       alpha=.4, bins=bins_num, kde=True)\n",
    "    median = ultra_df[col].median()\n",
    "    mean = ultra_df[col].mean()\n",
    "    ax2.axvline(x=median, c='black',\n",
    "                label=f'  медиана: {median:.0f}')\n",
    "    ax2.axvline(x=mean, c='black', ls='--',\n",
    "                label=f'\\n  среднее: {mean:.0f}\\n')\n",
    "\n",
    "    strings = ['С подпиской', 'Распределения', 'Без подписки']\n",
    "    handles, _ = plt.gca().get_legend_handles_labels()\n",
    "    for extra_string, num in zip(strings, (2, -2, 0)):\n",
    "        handles.insert(num, mpatches.Patch(color='none', label=extra_string))\n",
    "\n",
    "    plt.legend(handles=handles, loc='upper right')\n",
    "    plt.ylabel(hist_dict[col][1])\n",
    "    plt.xlabel(hist_dict[col][2])\n",
    "    plt.title(f'Распределения {titles[col]} поездок для пользователей с подпиской и без подписки')\n",
    "    plt.grid(True, alpha=.3)"
   ]
  },
  {
   "cell_type": "code",
   "execution_count": 27,
   "id": "a31731ba",
   "metadata": {},
   "outputs": [
    {
     "data": {
      "text/html": [
       "<div>\n",
       "<style scoped>\n",
       "    .dataframe tbody tr th:only-of-type {\n",
       "        vertical-align: middle;\n",
       "    }\n",
       "\n",
       "    .dataframe tbody tr th {\n",
       "        vertical-align: top;\n",
       "    }\n",
       "\n",
       "    .dataframe thead th {\n",
       "        text-align: right;\n",
       "    }\n",
       "</style>\n",
       "<table border=\"1\" class=\"dataframe\">\n",
       "  <thead>\n",
       "    <tr style=\"text-align: right;\">\n",
       "      <th></th>\n",
       "      <th>count</th>\n",
       "      <th>mean</th>\n",
       "      <th>std</th>\n",
       "      <th>min</th>\n",
       "      <th>25%</th>\n",
       "      <th>50%</th>\n",
       "      <th>75%</th>\n",
       "      <th>max</th>\n",
       "    </tr>\n",
       "  </thead>\n",
       "  <tbody>\n",
       "    <tr>\n",
       "      <th>distance</th>\n",
       "      <td>11473.0</td>\n",
       "      <td>3028.374239</td>\n",
       "      <td>1235.541051</td>\n",
       "      <td>0.855683</td>\n",
       "      <td>2360.878149</td>\n",
       "      <td>3102.083025</td>\n",
       "      <td>3883.979311</td>\n",
       "      <td>7066.003772</td>\n",
       "    </tr>\n",
       "  </tbody>\n",
       "</table>\n",
       "</div>"
      ],
      "text/plain": [
       "            count         mean          std       min          25%  \\\n",
       "distance  11473.0  3028.374239  1235.541051  0.855683  2360.878149   \n",
       "\n",
       "                  50%          75%          max  \n",
       "distance  3102.083025  3883.979311  7066.003772  "
      ]
     },
     "metadata": {},
     "output_type": "display_data"
    },
    {
     "data": {
      "text/html": [
       "<div>\n",
       "<style scoped>\n",
       "    .dataframe tbody tr th:only-of-type {\n",
       "        vertical-align: middle;\n",
       "    }\n",
       "\n",
       "    .dataframe tbody tr th {\n",
       "        vertical-align: top;\n",
       "    }\n",
       "\n",
       "    .dataframe thead th {\n",
       "        text-align: right;\n",
       "    }\n",
       "</style>\n",
       "<table border=\"1\" class=\"dataframe\">\n",
       "  <thead>\n",
       "    <tr style=\"text-align: right;\">\n",
       "      <th></th>\n",
       "      <th>count</th>\n",
       "      <th>mean</th>\n",
       "      <th>std</th>\n",
       "      <th>min</th>\n",
       "      <th>25%</th>\n",
       "      <th>50%</th>\n",
       "      <th>75%</th>\n",
       "      <th>max</th>\n",
       "    </tr>\n",
       "  </thead>\n",
       "  <tbody>\n",
       "    <tr>\n",
       "      <th>distance</th>\n",
       "      <td>6500.0</td>\n",
       "      <td>3115.445388</td>\n",
       "      <td>836.89533</td>\n",
       "      <td>244.210438</td>\n",
       "      <td>2785.444017</td>\n",
       "      <td>3148.637229</td>\n",
       "      <td>3560.574425</td>\n",
       "      <td>5699.769662</td>\n",
       "    </tr>\n",
       "  </tbody>\n",
       "</table>\n",
       "</div>"
      ],
      "text/plain": [
       "           count         mean        std         min          25%  \\\n",
       "distance  6500.0  3115.445388  836.89533  244.210438  2785.444017   \n",
       "\n",
       "                  50%          75%          max  \n",
       "distance  3148.637229  3560.574425  5699.769662  "
      ]
     },
     "execution_count": 27,
     "metadata": {},
     "output_type": "execute_result"
    },
    {
     "data": {
      "image/png": "[encoded data removed]",
      "text/plain": [
       "<Figure size 1500x400 with 1 Axes>"
      ]
     },
     "metadata": {},
     "output_type": "display_data"
    }
   ],
   "source": [
    "free_ultra_histograms('distance')\n",
    "display(free_df[['distance']].describe().T)\n",
    "ultra_df[['distance']].describe().T"
   ]
  },
  {
   "cell_type": "code",
   "execution_count": 28,
   "id": "9b0e81bc",
   "metadata": {},
   "outputs": [
    {
     "data": {
      "text/html": [
       "<div>\n",
       "<style scoped>\n",
       "    .dataframe tbody tr th:only-of-type {\n",
       "        vertical-align: middle;\n",
       "    }\n",
       "\n",
       "    .dataframe tbody tr th {\n",
       "        vertical-align: top;\n",
       "    }\n",
       "\n",
       "    .dataframe thead th {\n",
       "        text-align: right;\n",
       "    }\n",
       "</style>\n",
       "<table border=\"1\" class=\"dataframe\">\n",
       "  <thead>\n",
       "    <tr style=\"text-align: right;\">\n",
       "      <th></th>\n",
       "      <th>count</th>\n",
       "      <th>mean</th>\n",
       "      <th>std</th>\n",
       "      <th>min</th>\n",
       "      <th>25%</th>\n",
       "      <th>50%</th>\n",
       "      <th>75%</th>\n",
       "      <th>max</th>\n",
       "    </tr>\n",
       "  </thead>\n",
       "  <tbody>\n",
       "    <tr>\n",
       "      <th>duration</th>\n",
       "      <td>11473.0</td>\n",
       "      <td>17.530771</td>\n",
       "      <td>6.162609</td>\n",
       "      <td>2.035632</td>\n",
       "      <td>13.085688</td>\n",
       "      <td>17.383807</td>\n",
       "      <td>21.638038</td>\n",
       "      <td>34.948498</td>\n",
       "    </tr>\n",
       "  </tbody>\n",
       "</table>\n",
       "</div>"
      ],
      "text/plain": [
       "            count       mean       std       min        25%        50%  \\\n",
       "duration  11473.0  17.530771  6.162609  2.035632  13.085688  17.383807   \n",
       "\n",
       "                75%        max  \n",
       "duration  21.638038  34.948498  "
      ]
     },
     "metadata": {},
     "output_type": "display_data"
    },
    {
     "data": {
      "text/html": [
       "<div>\n",
       "<style scoped>\n",
       "    .dataframe tbody tr th:only-of-type {\n",
       "        vertical-align: middle;\n",
       "    }\n",
       "\n",
       "    .dataframe tbody tr th {\n",
       "        vertical-align: top;\n",
       "    }\n",
       "\n",
       "    .dataframe thead th {\n",
       "        text-align: right;\n",
       "    }\n",
       "</style>\n",
       "<table border=\"1\" class=\"dataframe\">\n",
       "  <thead>\n",
       "    <tr style=\"text-align: right;\">\n",
       "      <th></th>\n",
       "      <th>count</th>\n",
       "      <th>mean</th>\n",
       "      <th>std</th>\n",
       "      <th>min</th>\n",
       "      <th>25%</th>\n",
       "      <th>50%</th>\n",
       "      <th>75%</th>\n",
       "      <th>max</th>\n",
       "    </tr>\n",
       "  </thead>\n",
       "  <tbody>\n",
       "    <tr>\n",
       "      <th>duration</th>\n",
       "      <td>6500.0</td>\n",
       "      <td>18.541985</td>\n",
       "      <td>5.572048</td>\n",
       "      <td>3.760353</td>\n",
       "      <td>14.524654</td>\n",
       "      <td>18.178153</td>\n",
       "      <td>21.884129</td>\n",
       "      <td>40.823963</td>\n",
       "    </tr>\n",
       "  </tbody>\n",
       "</table>\n",
       "</div>"
      ],
      "text/plain": [
       "           count       mean       std       min        25%        50%  \\\n",
       "duration  6500.0  18.541985  5.572048  3.760353  14.524654  18.178153   \n",
       "\n",
       "                75%        max  \n",
       "duration  21.884129  40.823963  "
      ]
     },
     "execution_count": 28,
     "metadata": {},
     "output_type": "execute_result"
    },
    {
     "data": {
      "image/png": "[encoded data removed]",
      "text/plain": [
       "<Figure size 1500x400 with 1 Axes>"
      ]
     },
     "metadata": {},
     "output_type": "display_data"
    }
   ],
   "source": [
    "free_ultra_histograms('duration')\n",
    "display(free_df[['duration']].describe().T)\n",
    "ultra_df[['duration']].describe().T"
   ]
  },
  {
   "attachments": {},
   "cell_type": "markdown",
   "id": "fdfd4872",
   "metadata": {},
   "source": [
    "**Вывод:**  \n",
    "- пользователи с подпиской в среднем проезжали большее расстояние;\n",
    "- пользователи с подпиской в среднем тратили больше времени на поездку;\n",
    "- распределения рассмотренных переменных для пользователей с подпиской отличаются меньшим разбросом значений  \n",
    "в сравнении с соответствующими распределениями для пользователей без подписки."
   ]
  },
  {
   "attachments": {},
   "cell_type": "markdown",
   "id": "d0be1f94",
   "metadata": {},
   "source": [
    "## Подсчёт выручки"
   ]
  },
  {
   "cell_type": "code",
   "execution_count": 29,
   "id": "53049e0a",
   "metadata": {},
   "outputs": [
    {
     "data": {
      "text/html": [
       "<div>\n",
       "<style scoped>\n",
       "    .dataframe tbody tr th:only-of-type {\n",
       "        vertical-align: middle;\n",
       "    }\n",
       "\n",
       "    .dataframe tbody tr th {\n",
       "        vertical-align: top;\n",
       "    }\n",
       "\n",
       "    .dataframe thead th {\n",
       "        text-align: right;\n",
       "    }\n",
       "</style>\n",
       "<table border=\"1\" class=\"dataframe\">\n",
       "  <thead>\n",
       "    <tr style=\"text-align: right;\">\n",
       "      <th></th>\n",
       "      <th>user_id</th>\n",
       "      <th>month</th>\n",
       "      <th>month_distance</th>\n",
       "      <th>month_duration</th>\n",
       "      <th>rides_count</th>\n",
       "      <th>subscription_type</th>\n",
       "      <th>minute_price</th>\n",
       "      <th>start_ride_price</th>\n",
       "      <th>subscription_fee</th>\n",
       "      <th>month_revenue</th>\n",
       "    </tr>\n",
       "  </thead>\n",
       "  <tbody>\n",
       "    <tr>\n",
       "      <th>0</th>\n",
       "      <td>1</td>\n",
       "      <td>1</td>\n",
       "      <td>7027.511294</td>\n",
       "      <td>41.416640</td>\n",
       "      <td>2</td>\n",
       "      <td>ultra</td>\n",
       "      <td>6</td>\n",
       "      <td>0</td>\n",
       "      <td>199</td>\n",
       "      <td>451</td>\n",
       "    </tr>\n",
       "    <tr>\n",
       "      <th>1</th>\n",
       "      <td>1</td>\n",
       "      <td>4</td>\n",
       "      <td>754.159807</td>\n",
       "      <td>6.232113</td>\n",
       "      <td>1</td>\n",
       "      <td>ultra</td>\n",
       "      <td>6</td>\n",
       "      <td>0</td>\n",
       "      <td>199</td>\n",
       "      <td>241</td>\n",
       "    </tr>\n",
       "    <tr>\n",
       "      <th>2</th>\n",
       "      <td>1</td>\n",
       "      <td>8</td>\n",
       "      <td>6723.470560</td>\n",
       "      <td>44.776802</td>\n",
       "      <td>2</td>\n",
       "      <td>ultra</td>\n",
       "      <td>6</td>\n",
       "      <td>0</td>\n",
       "      <td>199</td>\n",
       "      <td>469</td>\n",
       "    </tr>\n",
       "    <tr>\n",
       "      <th>3</th>\n",
       "      <td>1</td>\n",
       "      <td>10</td>\n",
       "      <td>5809.911100</td>\n",
       "      <td>31.578017</td>\n",
       "      <td>2</td>\n",
       "      <td>ultra</td>\n",
       "      <td>6</td>\n",
       "      <td>0</td>\n",
       "      <td>199</td>\n",
       "      <td>391</td>\n",
       "    </tr>\n",
       "    <tr>\n",
       "      <th>4</th>\n",
       "      <td>1</td>\n",
       "      <td>11</td>\n",
       "      <td>7003.499363</td>\n",
       "      <td>53.397424</td>\n",
       "      <td>3</td>\n",
       "      <td>ultra</td>\n",
       "      <td>6</td>\n",
       "      <td>0</td>\n",
       "      <td>199</td>\n",
       "      <td>523</td>\n",
       "    </tr>\n",
       "    <tr>\n",
       "      <th>...</th>\n",
       "      <td>...</td>\n",
       "      <td>...</td>\n",
       "      <td>...</td>\n",
       "      <td>...</td>\n",
       "      <td>...</td>\n",
       "      <td>...</td>\n",
       "      <td>...</td>\n",
       "      <td>...</td>\n",
       "      <td>...</td>\n",
       "      <td>...</td>\n",
       "    </tr>\n",
       "    <tr>\n",
       "      <th>11295</th>\n",
       "      <td>1534</td>\n",
       "      <td>6</td>\n",
       "      <td>3409.468534</td>\n",
       "      <td>24.812678</td>\n",
       "      <td>2</td>\n",
       "      <td>free</td>\n",
       "      <td>8</td>\n",
       "      <td>50</td>\n",
       "      <td>0</td>\n",
       "      <td>300</td>\n",
       "    </tr>\n",
       "    <tr>\n",
       "      <th>11296</th>\n",
       "      <td>1534</td>\n",
       "      <td>8</td>\n",
       "      <td>7622.453034</td>\n",
       "      <td>47.205960</td>\n",
       "      <td>2</td>\n",
       "      <td>free</td>\n",
       "      <td>8</td>\n",
       "      <td>50</td>\n",
       "      <td>0</td>\n",
       "      <td>484</td>\n",
       "    </tr>\n",
       "    <tr>\n",
       "      <th>11297</th>\n",
       "      <td>1534</td>\n",
       "      <td>9</td>\n",
       "      <td>4928.173852</td>\n",
       "      <td>22.560373</td>\n",
       "      <td>1</td>\n",
       "      <td>free</td>\n",
       "      <td>8</td>\n",
       "      <td>50</td>\n",
       "      <td>0</td>\n",
       "      <td>234</td>\n",
       "    </tr>\n",
       "    <tr>\n",
       "      <th>11298</th>\n",
       "      <td>1534</td>\n",
       "      <td>11</td>\n",
       "      <td>13350.015305</td>\n",
       "      <td>76.342174</td>\n",
       "      <td>4</td>\n",
       "      <td>free</td>\n",
       "      <td>8</td>\n",
       "      <td>50</td>\n",
       "      <td>0</td>\n",
       "      <td>816</td>\n",
       "    </tr>\n",
       "    <tr>\n",
       "      <th>11299</th>\n",
       "      <td>1534</td>\n",
       "      <td>12</td>\n",
       "      <td>2371.711192</td>\n",
       "      <td>15.893917</td>\n",
       "      <td>1</td>\n",
       "      <td>free</td>\n",
       "      <td>8</td>\n",
       "      <td>50</td>\n",
       "      <td>0</td>\n",
       "      <td>178</td>\n",
       "    </tr>\n",
       "  </tbody>\n",
       "</table>\n",
       "<p>11300 rows × 10 columns</p>\n",
       "</div>"
      ],
      "text/plain": [
       "       user_id  month  month_distance  month_duration  rides_count  \\\n",
       "0            1      1     7027.511294       41.416640            2   \n",
       "1            1      4      754.159807        6.232113            1   \n",
       "2            1      8     6723.470560       44.776802            2   \n",
       "3            1     10     5809.911100       31.578017            2   \n",
       "4            1     11     7003.499363       53.397424            3   \n",
       "...        ...    ...             ...             ...          ...   \n",
       "11295     1534      6     3409.468534       24.812678            2   \n",
       "11296     1534      8     7622.453034       47.205960            2   \n",
       "11297     1534      9     4928.173852       22.560373            1   \n",
       "11298     1534     11    13350.015305       76.342174            4   \n",
       "11299     1534     12     2371.711192       15.893917            1   \n",
       "\n",
       "      subscription_type  minute_price  start_ride_price  subscription_fee  \\\n",
       "0                 ultra             6                 0               199   \n",
       "1                 ultra             6                 0               199   \n",
       "2                 ultra             6                 0               199   \n",
       "3                 ultra             6                 0               199   \n",
       "4                 ultra             6                 0               199   \n",
       "...                 ...           ...               ...               ...   \n",
       "11295              free             8                50                 0   \n",
       "11296              free             8                50                 0   \n",
       "11297              free             8                50                 0   \n",
       "11298              free             8                50                 0   \n",
       "11299              free             8                50                 0   \n",
       "\n",
       "       month_revenue  \n",
       "0                451  \n",
       "1                241  \n",
       "2                469  \n",
       "3                391  \n",
       "4                523  \n",
       "...              ...  \n",
       "11295            300  \n",
       "11296            484  \n",
       "11297            234  \n",
       "11298            816  \n",
       "11299            178  \n",
       "\n",
       "[11300 rows x 10 columns]"
      ]
     },
     "execution_count": 29,
     "metadata": {},
     "output_type": "execute_result"
    }
   ],
   "source": [
    "agg_df = df.pivot_table(\n",
    "    index=['user_id', 'month'], values=['distance', 'duration'],\n",
    "    aggfunc=['sum', 'size']\n",
    ")\n",
    "\n",
    "agg_df.columns = ['month_distance', 'month_duration', 'rides_count']\n",
    "agg_df = agg_df.reset_index()\n",
    "\n",
    "agg_df = agg_df.merge(\n",
    "    df[['user_id', 'subscription_type', 'minute_price',\n",
    "        'start_ride_price', 'subscription_fee']]\n",
    "    .drop_duplicates(subset=['user_id']),\n",
    "     on='user_id', how='left'\n",
    ")\n",
    "\n",
    "agg_df['month_revenue'] = (\n",
    "    agg_df['start_ride_price'] * agg_df['rides_count']\n",
    "    + agg_df['minute_price'] * np.ceil(agg_df['month_duration'])\n",
    "    + agg_df['subscription_fee']\n",
    ").astype('int')\n",
    "agg_df"
   ]
  },
  {
   "attachments": {},
   "cell_type": "markdown",
   "id": "727576a7",
   "metadata": {},
   "source": [
    "## Проверка гипотез"
   ]
  },
  {
   "attachments": {},
   "cell_type": "markdown",
   "id": "66c45186",
   "metadata": {},
   "source": [
    "### Тратят ли пользователи с подпиской больше времени на поездки?"
   ]
  },
  {
   "attachments": {},
   "cell_type": "markdown",
   "id": "3f5706a9",
   "metadata": {},
   "source": [
    "- Нулевая гипотеза: средние значения продолжительности поездки для пользователей из обеих категорий равны.  \n",
    "- Альтернативная гипотеза: среднее значение продолжительности поездки для пользователей с подпиской выше,  \n",
    "чем среднее значение продолжительности поездки для пользователей без подписки.\n",
    "\n",
    "Требуется проверить одностороннюю гипотезу для средних значений двух независимых выборок.  \n",
    "При этом выборки достаточно велики. Поэтому воспользуемся методом `scipy.stats.ttest_ind()` с аргументом `greater`."
   ]
  },
  {
   "cell_type": "code",
   "execution_count": 30,
   "id": "dae34802",
   "metadata": {},
   "outputs": [
    {
     "name": "stdout",
     "output_type": "stream",
     "text": [
      "p-value: 4.7044680744539e-28\n",
      "Отвергаем нулевую гипотезу \n",
      "\n",
      "Средняя продолжительность поездки у пользователей с подпиской: 18.54 минут\n",
      "Средняя продолжительность поездки у пользователей без подписки: 17.53 минут\n",
      "\n",
      "Одна поездка пользователей с подпиской в среднем длилась дольше на 1.01 минут\n"
     ]
    }
   ],
   "source": [
    "alpha = 0.01\n",
    "results = st.ttest_ind(ultra_df['duration'], free_df['duration'],\n",
    "                       alternative='greater')\n",
    "\n",
    "if results.pvalue < alpha:\n",
    "    free_mean = free_df['duration'].mean()\n",
    "    ultra_mean = ultra_df['duration'].mean()\n",
    "    temp_dict = {'с подпиской': ultra_mean, 'без подписки': free_mean}\n",
    "    duration_difference = round(ultra_mean - free_mean, 2)\n",
    "    print(f'p-value: {results.pvalue}')\n",
    "    print('Отвергаем нулевую гипотезу \\n')\n",
    "    for key, value in temp_dict.items():\n",
    "        print('Средняя продолжительность поездки у пользователей '\n",
    "              f'{key}: {value:.2f} минут')\n",
    "    print('\\nОдна поездка пользователей с подпиской в среднем длилась дольше на '\n",
    "          f'{duration_difference} минут')\n",
    "else:\n",
    "    print(f'p-value: {results.pvalue}')\n",
    "    print('Нет оснований отвергнуть нулевую гипотезу')"
   ]
  },
  {
   "attachments": {},
   "cell_type": "markdown",
   "id": "7b4734a8",
   "metadata": {},
   "source": [
    "### Превышает ли среднее расстояние поездки пользователя с подпиской оптимальное с точки зрения износа самоката расстояние?"
   ]
  },
  {
   "attachments": {},
   "cell_type": "markdown",
   "id": "5dca90b5",
   "metadata": {},
   "source": [
    "- Нулевая гипотеза: среднее расстояние, преодолённое пользователем с подпиской за поездку, равно 3130 метрам.  \n",
    "- Альтернативная гипотеза: среднее расстояние поездки для пользователей с подпиской превышает 3130 метров.  \n",
    "\n",
    "Требуется проверить гипотезу о равенстве среднего значения выборки заданному числу против односторонней альтернативной гипотезы.  \n",
    "Поэтому воспользуемся методом `scipy.stats.ttest_1samp()` с аргументом `greater`."
   ]
  },
  {
   "cell_type": "code",
   "execution_count": 31,
   "id": "5e40bb37",
   "metadata": {},
   "outputs": [
    {
     "name": "stdout",
     "output_type": "stream",
     "text": [
      "p-value: 0.9195368847849785\n",
      "Нет оснований отвергнуть нулевую гипотезу\n"
     ]
    }
   ],
   "source": [
    "optimal_distance = 3130\n",
    "alpha = 0.05\n",
    "results = st.ttest_1samp(ultra_df['distance'], optimal_distance,\n",
    "                         alternative='greater')\n",
    "\n",
    "if results.pvalue < alpha:\n",
    "    print(f'p-value: {results.pvalue}')\n",
    "    print('Отвергаем нулевую гипотезу')\n",
    "else:\n",
    "    print(f'p-value: {results.pvalue}')\n",
    "    print('Нет оснований отвергнуть нулевую гипотезу')"
   ]
  },
  {
   "attachments": {},
   "cell_type": "markdown",
   "id": "148462ff",
   "metadata": {},
   "source": [
    "### Проверка гипотезы о том, будет ли помесячная выручка от пользователей с подпиской, чем выручка от пользователей без подписки."
   ]
  },
  {
   "attachments": {},
   "cell_type": "markdown",
   "id": "9587dcb7",
   "metadata": {},
   "source": [
    "- Нулевая гипотеза: средние значения выручки от пользователя равны для обеих категорий.\n",
    "- Альтернативная гипотеза: среднее значение помесячной выручки от пользователей с подпиской превышает\n",
    "среднее значение помесячной выручки от пользователей без подписки.  \n",
    "\n",
    "Требуется проверить одностороннюю гипотезу для средних значений двух независимых выборок.  \n",
    "При этом выборки достаточно велики. Поэтому воспользуемся методом `scipy.stats.ttest_ind()` с аргументом `greater`."
   ]
  },
  {
   "cell_type": "code",
   "execution_count": 32,
   "id": "d590fb2b",
   "metadata": {},
   "outputs": [
    {
     "name": "stdout",
     "output_type": "stream",
     "text": [
      "p-value: 3.914474385320123e-34\n",
      "Отвергаем нулевую гипотезу \n",
      "\n",
      "Средняя выручка от пользователя с подпиской: 361.48 рублей в месяц\n",
      "Средняя выручка от пользователя без подписки: 326.55 рублей в месяц\n",
      "\n",
      "Пользователь с подпиской в среднем тратил на поездки больше на 34.93 рублей в месяц\n"
     ]
    }
   ],
   "source": [
    "month_revenue_free = \\\n",
    "agg_df.query('subscription_type == \"free\"')['month_revenue']\n",
    "month_revenue_ultra = \\\n",
    "agg_df.query('subscription_type == \"ultra\"')['month_revenue']\n",
    "\n",
    "alpha = 0.01\n",
    "results = st.ttest_ind(month_revenue_ultra, month_revenue_free,\n",
    "                       alternative='greater')\n",
    "\n",
    "if results.pvalue < alpha:\n",
    "    print(f'p-value: {results.pvalue}')\n",
    "    print('Отвергаем нулевую гипотезу \\n')\n",
    "    temp_dict = {'с подпиской': month_revenue_ultra.mean(),\n",
    "                 'без подписки': month_revenue_free.mean()}\n",
    "    revenue_difference = temp_dict['с подпиской'] - temp_dict['без подписки']\n",
    "    for key, value in temp_dict.items():\n",
    "        print(f'Средняя выручка от пользователя {key}: {value:.2f} '\n",
    "              'рублей в месяц')\n",
    "    print('\\nПользователь с подпиской в среднем тратил на поездки больше '\n",
    "          f'на {revenue_difference:.2f} рублей в месяц')\n",
    "else:\n",
    "    print(f'p-value: {results.pvalue}')\n",
    "    print('Нет оснований отвергнуть нулевую гипотезу')"
   ]
  },
  {
   "attachments": {},
   "cell_type": "markdown",
   "id": "238930b0",
   "metadata": {},
   "source": [
    "### Представим такую ситуацию: техническая команда сервиса обновила сервера, с которыми взаимодействует мобильное приложение. Она надеется, что из-за этого количество обращений в техподдержку значимо снизилось. Некоторый файл содержит для каждого пользователя данные о количестве обращений до обновления и после него. Какой тест понадобился бы для проверки этой гипотезы?"
   ]
  },
  {
   "attachments": {},
   "cell_type": "markdown",
   "id": "43eeff78",
   "metadata": {},
   "source": [
    "Чтобы проверить гипотезу о равенстве средних значений двух зависимых выборок в Python,  \n",
    "следует применить метод `scipy.stats.ttest_rel()`."
   ]
  },
  {
   "attachments": {},
   "cell_type": "markdown",
   "id": "1acb6779",
   "metadata": {},
   "source": [
    "**Вывод:**  \n",
    "- есть основания предположить, что пользователи с подпиской тратят больше времени на поездку;\n",
    "- нет оснований говорить, что пользователь с подпиской проезжает за одну поездку более 3130 метров;  \n",
    "- средняя помесячная выручка от пользователей с подпиской статистически значимо больше, чем от пользователей без подписки."
   ]
  },
  {
   "attachments": {},
   "cell_type": "markdown",
   "id": "0fa9abb9",
   "metadata": {},
   "source": [
    "## Распределения"
   ]
  },
  {
   "attachments": {},
   "cell_type": "markdown",
   "id": "4718fbd8",
   "metadata": {},
   "source": [
    "### Количество промокодов.  \n",
    "\n",
    "Отделу маркетинга GoFast поставили задачу: нужно провести акцию с раздачей промокодов на один бесплатный месяц подписки, в рамках которой как минимум 100 существующих клиентов должны продлить эту подписку. То есть по завершении периода действия подписки пользователь может либо отказаться от неё, либо продлить, совершив соотвествующий платёж.  \n",
    "Эта акция уже проводилась ранее и по итогу выяснилось, что после бесплатного пробного периода подписку продлевают 10 % пользователей. Выясните, какое минимальное количество промокодов нужно разослать, чтобы вероятность не выполнить план была примерно 5 %. Подберите параметры распределения, описывающего эту ситуацию, постройте график распределения и сформулируйте ответ на вопрос о количестве промокодов."
   ]
  },
  {
   "cell_type": "code",
   "execution_count": 33,
   "id": "0a2c2b81",
   "metadata": {},
   "outputs": [
    {
     "data": {
      "image/png": "[encoded data removed]",
      "text/plain": [
       "<Figure size 1500x500 with 1 Axes>"
      ]
     },
     "metadata": {},
     "output_type": "display_data"
    },
    {
     "name": "stdout",
     "output_type": "stream",
     "text": [
      "Необходимо разослать 1161 промокод.\n"
     ]
    }
   ],
   "source": [
    "p = 0.1\n",
    "k = 99\n",
    "n = np.arange(11*k, 15*k)\n",
    "required_quantity = n[st.binom.cdf(k, n, p) < 0.05][0]\n",
    "\n",
    "\n",
    "with np.errstate(divide='ignore'):\n",
    "    x = range(1161)\n",
    "    y = st.binom.pmf(x, 1161, 0.1)\n",
    "\n",
    "plt.figure(figsize=(15, 5))\n",
    "plt.plot(x, y, 'o')\n",
    "plt.title('График биномиального распределения')\n",
    "plt.ylabel('Вероятность')\n",
    "plt.xlabel('Число промокодов')\n",
    "plt.xlim(70, 160)\n",
    "plt.xticks(range(70, 160, 5))\n",
    "plt.grid(True, alpha=.5)\n",
    "plt.show()\n",
    "print(f'Необходимо разослать {required_quantity} промокод.')"
   ]
  },
  {
   "attachments": {},
   "cell_type": "markdown",
   "id": "0282cdba",
   "metadata": {},
   "source": [
    "### Оценить вероятность того, что уведомление откроют не более 399,5 тыс. пользователей"
   ]
  },
  {
   "attachments": {},
   "cell_type": "markdown",
   "id": "9ab5718b",
   "metadata": {},
   "source": [
    "Отдел маркетинга рассылает клиентам push-уведомления в мобильном приложении. Клиенты могут открыть его или не открывать. Известно, что уведомления открывают около 40 % получивших клиентов. Отдел планирует разослать 1 млн уведомлений. С помощью аппроксимации постройте примерный график распределения и оцените вероятность того, что уведомление откроют не более 399,5 тыс. пользователей."
   ]
  },
  {
   "cell_type": "code",
   "execution_count": 34,
   "id": "20cf6a28",
   "metadata": {},
   "outputs": [],
   "source": [
    "n = 10**6\n",
    "p = 0.4\n",
    "mu = n * p\n",
    "sigma = (n * p * (1 - p))**(1/2)"
   ]
  },
  {
   "cell_type": "code",
   "execution_count": 35,
   "id": "be357cd4",
   "metadata": {},
   "outputs": [
    {
     "data": {
      "image/png": "[encoded data removed]",
      "text/plain": [
       "<Figure size 1500x500 with 1 Axes>"
      ]
     },
     "metadata": {},
     "output_type": "display_data"
    },
    {
     "name": "stdout",
     "output_type": "stream",
     "text": [
      "Вероятность равна примерно 0.1537\n"
     ]
    }
   ],
   "source": [
    "left = int(mu - 4 * sigma)\n",
    "right = int(mu + 4 * sigma)\n",
    "\n",
    "pdf = st.norm.pdf(range(left, right), mu, sigma)\n",
    "\n",
    "plt.figure(figsize=(15, 5))\n",
    "plt.plot(range(left, right), pdf)\n",
    "plt.title('Плотность вероятности нормального распределения')\n",
    "plt.ylabel('Вероятность')\n",
    "plt.xlabel('Количество уведомлений')\n",
    "plt.grid(True, alpha=.5)\n",
    "plt.show()\n",
    "\n",
    "distr = st.norm(mu, sigma)\n",
    "\n",
    "result = distr.cdf(399500)\n",
    "print(f'Вероятность равна примерно {result:.4f}')"
   ]
  },
  {
   "attachments": {},
   "cell_type": "markdown",
   "id": "d335ec8e",
   "metadata": {},
   "source": [
    "**Вывод**:  \n",
    "- для того, чтобы вероятность не выполнить план была равна примерно 5%, необходимо разослать 1161 промокод;\n",
    "- вероятность того, что уведомление откроют не более 399,5 тыс. пользователей, составляет примерно 15.37%."
   ]
  },
  {
   "attachments": {},
   "cell_type": "markdown",
   "id": "3a36fe1c",
   "metadata": {},
   "source": [
    "## Общий вывод."
   ]
  },
  {
   "attachments": {},
   "cell_type": "markdown",
   "id": "888131b6",
   "metadata": {},
   "source": [
    "**Описание данных**    \n",
    "В основных данных есть информация о пользователях, их поездках и подписках.  \n",
    "\n",
    "*Пользователи* - `users_go.csv`  \n",
    "`user_id` - уникальный идентификатор пользователя  \n",
    "`name` - имя пользователя  \n",
    "`age` - возраст  \n",
    "`city` - город  \n",
    "`subscription_type` - тип подписки (free, ultra)  \n",
    "\n",
    "*Поездки* - `rides_go.csv`    \n",
    "`user_id` - уникальный идентификатор пользователя  \n",
    "`distance` - расстояние, которое пользователь проехал в текущей сессии (в метрах)  \n",
    "`duration` - продолжительность сессии (в минутах)  \n",
    "`date` - дата совершения поездки  \n",
    "\n",
    "*Подписки* - `subscriptions_go.csv`    \n",
    "`subscription_type` - тип подписки  \n",
    "`minute_price` - стоимость одной минуты поездки по данной подписке  \n",
    "`start_ride_price` - стоимость начала поездки  \n",
    "`subscription_fee` - стоимость ежемесячного платежа\n",
    "\n",
    "**Предобработка данных:**    \n",
    "- строковые значения в колонке date преобразованы в даты;\n",
    "- добавлен новый столбец с номером месяца поездки;\n",
    "- в наборе данных `users_go.csv`устранены явные дубликаты;  \n",
    "- удалены аномальные значение в столбце с информацией о продолжительности поездки;\n",
    "- данные о пользователях, поездках и подписках объединены в один датафрейм.\n",
    "\n",
    "**Проверка гипотез.**  \n",
    "Исходя из полученных результатов, можно предположить:\n",
    "- пользователи с подпиской тратят больше времени на поездки;\n",
    "- средняя дистанция, преодолённая пользователем с подпиской за поездку,  \n",
    "не превышает оптимальное с точки зрения износа самоката расстояние;\n",
    "- помесячная выручка от пользователей с подпиской выше, чем от клиентов без неё."
   ]
  }
 ],
 "metadata": {
  "ExecuteTimeLog": [
   {
    "duration": 2013,
    "start_time": "2023-05-11T09:12:11.433Z"
   },
   {
    "duration": 5,
    "start_time": "2023-05-11T09:12:13.456Z"
   },
   {
    "duration": 850,
    "start_time": "2023-05-11T09:12:13.464Z"
   },
   {
    "duration": 24,
    "start_time": "2023-05-11T09:12:14.316Z"
   },
   {
    "duration": 80,
    "start_time": "2023-05-11T09:12:14.343Z"
   },
   {
    "duration": 27,
    "start_time": "2023-05-11T09:12:14.425Z"
   },
   {
    "duration": 55,
    "start_time": "2023-05-11T09:12:14.454Z"
   },
   {
    "duration": 13,
    "start_time": "2023-05-11T09:12:14.511Z"
   },
   {
    "duration": 29,
    "start_time": "2023-05-11T09:12:14.525Z"
   },
   {
    "duration": 24,
    "start_time": "2023-05-11T09:12:14.570Z"
   },
   {
    "duration": 6,
    "start_time": "2023-05-11T09:12:14.598Z"
   },
   {
    "duration": 18,
    "start_time": "2023-05-11T09:12:14.606Z"
   },
   {
    "duration": 483,
    "start_time": "2023-05-11T09:12:14.625Z"
   },
   {
    "duration": 260,
    "start_time": "2023-05-11T09:12:15.111Z"
   },
   {
    "duration": 13,
    "start_time": "2023-05-11T09:12:15.373Z"
   },
   {
    "duration": 624,
    "start_time": "2023-05-11T09:12:15.388Z"
   },
   {
    "duration": 1106,
    "start_time": "2023-05-11T09:12:16.014Z"
   },
   {
    "duration": 1172,
    "start_time": "2023-05-11T09:12:17.122Z"
   },
   {
    "duration": 27,
    "start_time": "2023-05-11T09:12:18.296Z"
   },
   {
    "duration": 45,
    "start_time": "2023-05-11T09:12:18.325Z"
   },
   {
    "duration": 30,
    "start_time": "2023-05-11T09:12:18.374Z"
   },
   {
    "duration": 27,
    "start_time": "2023-05-11T09:12:18.406Z"
   },
   {
    "duration": 58,
    "start_time": "2023-05-11T09:12:18.435Z"
   },
   {
    "duration": 26,
    "start_time": "2023-05-11T09:12:18.495Z"
   },
   {
    "duration": 50,
    "start_time": "2023-05-11T09:12:18.523Z"
   },
   {
    "duration": 756,
    "start_time": "2023-05-11T09:12:18.575Z"
   },
   {
    "duration": 560,
    "start_time": "2023-05-11T09:12:19.333Z"
   },
   {
    "duration": 807,
    "start_time": "2023-05-11T09:12:19.896Z"
   },
   {
    "duration": 599,
    "start_time": "2023-05-11T09:12:20.705Z"
   },
   {
    "duration": 192,
    "start_time": "2023-05-11T09:12:21.306Z"
   },
   {
    "duration": 7,
    "start_time": "2023-05-11T09:12:21.500Z"
   },
   {
    "duration": 45,
    "start_time": "2023-05-11T09:12:21.509Z"
   },
   {
    "duration": 58,
    "start_time": "2023-05-11T09:12:21.556Z"
   },
   {
    "duration": 314,
    "start_time": "2023-05-11T09:12:21.616Z"
   },
   {
    "duration": 4,
    "start_time": "2023-05-11T09:12:21.932Z"
   },
   {
    "duration": 265,
    "start_time": "2023-05-11T09:12:21.938Z"
   },
   {
    "duration": 10,
    "start_time": "2023-05-11T09:13:28.642Z"
   },
   {
    "duration": 67,
    "start_time": "2023-05-11T09:13:28.654Z"
   },
   {
    "duration": 496,
    "start_time": "2023-05-11T09:13:28.723Z"
   },
   {
    "duration": 23,
    "start_time": "2023-05-11T09:13:29.221Z"
   },
   {
    "duration": 73,
    "start_time": "2023-05-11T09:13:29.257Z"
   },
   {
    "duration": 25,
    "start_time": "2023-05-11T09:13:29.332Z"
   },
   {
    "duration": 53,
    "start_time": "2023-05-11T09:13:29.360Z"
   },
   {
    "duration": 8,
    "start_time": "2023-05-11T09:13:29.415Z"
   },
   {
    "duration": 20,
    "start_time": "2023-05-11T09:13:29.425Z"
   },
   {
    "duration": 12,
    "start_time": "2023-05-11T09:13:29.447Z"
   },
   {
    "duration": 59,
    "start_time": "2023-05-11T09:13:29.461Z"
   },
   {
    "duration": 12,
    "start_time": "2023-05-11T09:13:29.522Z"
   },
   {
    "duration": 514,
    "start_time": "2023-05-11T09:13:29.536Z"
   },
   {
    "duration": 278,
    "start_time": "2023-05-11T09:13:30.055Z"
   },
   {
    "duration": 6,
    "start_time": "2023-05-11T09:13:30.335Z"
   },
   {
    "duration": 671,
    "start_time": "2023-05-11T09:13:30.351Z"
   },
   {
    "duration": 1119,
    "start_time": "2023-05-11T09:13:31.025Z"
   },
   {
    "duration": 1383,
    "start_time": "2023-05-11T09:13:32.148Z"
   },
   {
    "duration": 29,
    "start_time": "2023-05-11T09:13:33.533Z"
   },
   {
    "duration": 46,
    "start_time": "2023-05-11T09:13:33.564Z"
   },
   {
    "duration": 8,
    "start_time": "2023-05-11T09:13:33.612Z"
   },
   {
    "duration": 30,
    "start_time": "2023-05-11T09:13:33.622Z"
   },
   {
    "duration": 71,
    "start_time": "2023-05-11T09:13:33.654Z"
   },
   {
    "duration": 39,
    "start_time": "2023-05-11T09:13:33.726Z"
   },
   {
    "duration": 48,
    "start_time": "2023-05-11T09:13:33.767Z"
   },
   {
    "duration": 788,
    "start_time": "2023-05-11T09:13:33.817Z"
   },
   {
    "duration": 592,
    "start_time": "2023-05-11T09:13:34.606Z"
   },
   {
    "duration": 761,
    "start_time": "2023-05-11T09:13:35.204Z"
   },
   {
    "duration": 572,
    "start_time": "2023-05-11T09:13:35.971Z"
   },
   {
    "duration": 183,
    "start_time": "2023-05-11T09:13:36.545Z"
   },
   {
    "duration": 7,
    "start_time": "2023-05-11T09:13:36.730Z"
   },
   {
    "duration": 51,
    "start_time": "2023-05-11T09:13:36.751Z"
   },
   {
    "duration": 25,
    "start_time": "2023-05-11T09:13:36.805Z"
   },
   {
    "duration": 303,
    "start_time": "2023-05-11T09:13:36.833Z"
   },
   {
    "duration": 3,
    "start_time": "2023-05-11T09:13:37.138Z"
   },
   {
    "duration": 272,
    "start_time": "2023-05-11T09:13:37.146Z"
   },
   {
    "duration": 84,
    "start_time": "2023-05-11T09:20:43.767Z"
   },
   {
    "duration": 10,
    "start_time": "2023-05-11T09:24:31.397Z"
   },
   {
    "duration": 107,
    "start_time": "2023-05-11T09:24:31.409Z"
   },
   {
    "duration": 417,
    "start_time": "2023-05-11T09:24:31.519Z"
   },
   {
    "duration": 36,
    "start_time": "2023-05-11T09:24:31.938Z"
   },
   {
    "duration": 87,
    "start_time": "2023-05-11T09:24:31.979Z"
   },
   {
    "duration": 105,
    "start_time": "2023-05-11T09:24:32.067Z"
   },
   {
    "duration": 189,
    "start_time": "2023-05-11T09:24:32.174Z"
   },
   {
    "duration": 95,
    "start_time": "2023-05-11T09:24:32.365Z"
   },
   {
    "duration": 89,
    "start_time": "2023-05-11T09:24:32.466Z"
   },
   {
    "duration": 75,
    "start_time": "2023-05-11T09:24:32.557Z"
   },
   {
    "duration": 47,
    "start_time": "2023-05-11T09:24:32.634Z"
   },
   {
    "duration": 136,
    "start_time": "2023-05-11T09:24:32.686Z"
   },
   {
    "duration": 756,
    "start_time": "2023-05-11T09:24:32.823Z"
   },
   {
    "duration": 292,
    "start_time": "2023-05-11T09:24:33.583Z"
   },
   {
    "duration": 8,
    "start_time": "2023-05-11T09:24:33.882Z"
   },
   {
    "duration": 910,
    "start_time": "2023-05-11T09:24:33.896Z"
   },
   {
    "duration": 1227,
    "start_time": "2023-05-11T09:24:34.820Z"
   },
   {
    "duration": 1415,
    "start_time": "2023-05-11T09:24:36.050Z"
   },
   {
    "duration": 54,
    "start_time": "2023-05-11T09:24:37.468Z"
   },
   {
    "duration": 8,
    "start_time": "2023-05-11T09:24:37.529Z"
   },
   {
    "duration": 68,
    "start_time": "2023-05-11T09:24:37.539Z"
   },
   {
    "duration": 48,
    "start_time": "2023-05-11T09:24:37.609Z"
   },
   {
    "duration": 83,
    "start_time": "2023-05-11T09:24:37.659Z"
   },
   {
    "duration": 49,
    "start_time": "2023-05-11T09:24:37.744Z"
   },
   {
    "duration": 89,
    "start_time": "2023-05-11T09:24:37.795Z"
   },
   {
    "duration": 1042,
    "start_time": "2023-05-11T09:24:37.886Z"
   },
   {
    "duration": 657,
    "start_time": "2023-05-11T09:24:38.930Z"
   },
   {
    "duration": 801,
    "start_time": "2023-05-11T09:24:39.589Z"
   },
   {
    "duration": 687,
    "start_time": "2023-05-11T09:24:40.392Z"
   },
   {
    "duration": 205,
    "start_time": "2023-05-11T09:24:41.082Z"
   },
   {
    "duration": 44,
    "start_time": "2023-05-11T09:24:41.289Z"
   },
   {
    "duration": 56,
    "start_time": "2023-05-11T09:24:41.335Z"
   },
   {
    "duration": 72,
    "start_time": "2023-05-11T09:24:41.393Z"
   },
   {
    "duration": 445,
    "start_time": "2023-05-11T09:24:41.467Z"
   },
   {
    "duration": 7,
    "start_time": "2023-05-11T09:24:41.914Z"
   },
   {
    "duration": 333,
    "start_time": "2023-05-11T09:24:41.923Z"
   },
   {
    "duration": 5,
    "start_time": "2023-05-11T09:24:52.011Z"
   },
   {
    "duration": 17,
    "start_time": "2023-05-11T09:24:52.021Z"
   },
   {
    "duration": 203,
    "start_time": "2023-05-11T09:24:52.040Z"
   },
   {
    "duration": 60,
    "start_time": "2023-05-11T09:24:52.251Z"
   },
   {
    "duration": 46,
    "start_time": "2023-05-11T09:24:52.316Z"
   },
   {
    "duration": 42,
    "start_time": "2023-05-11T09:24:52.368Z"
   },
   {
    "duration": 103,
    "start_time": "2023-05-11T09:24:52.412Z"
   },
   {
    "duration": 20,
    "start_time": "2023-05-11T09:24:52.517Z"
   },
   {
    "duration": 90,
    "start_time": "2023-05-11T09:24:52.539Z"
   },
   {
    "duration": 88,
    "start_time": "2023-05-11T09:24:52.631Z"
   },
   {
    "duration": 112,
    "start_time": "2023-05-11T09:24:52.721Z"
   },
   {
    "duration": 119,
    "start_time": "2023-05-11T09:24:52.835Z"
   },
   {
    "duration": 796,
    "start_time": "2023-05-11T09:24:52.957Z"
   },
   {
    "duration": 280,
    "start_time": "2023-05-11T09:24:53.757Z"
   },
   {
    "duration": 4,
    "start_time": "2023-05-11T09:24:54.039Z"
   },
   {
    "duration": 652,
    "start_time": "2023-05-11T09:24:54.045Z"
   },
   {
    "duration": 1193,
    "start_time": "2023-05-11T09:24:54.703Z"
   },
   {
    "duration": 1321,
    "start_time": "2023-05-11T09:24:55.900Z"
   },
   {
    "duration": 36,
    "start_time": "2023-05-11T09:24:57.228Z"
   },
   {
    "duration": 65,
    "start_time": "2023-05-11T09:24:57.270Z"
   },
   {
    "duration": 101,
    "start_time": "2023-05-11T09:24:57.337Z"
   },
   {
    "duration": 110,
    "start_time": "2023-05-11T09:24:57.440Z"
   },
   {
    "duration": 66,
    "start_time": "2023-05-11T09:24:57.555Z"
   },
   {
    "duration": 38,
    "start_time": "2023-05-11T09:24:57.624Z"
   },
   {
    "duration": 55,
    "start_time": "2023-05-11T09:24:57.664Z"
   },
   {
    "duration": 858,
    "start_time": "2023-05-11T09:24:57.721Z"
   },
   {
    "duration": 595,
    "start_time": "2023-05-11T09:24:58.588Z"
   },
   {
    "duration": 743,
    "start_time": "2023-05-11T09:24:59.194Z"
   },
   {
    "duration": 626,
    "start_time": "2023-05-11T09:24:59.940Z"
   },
   {
    "duration": 226,
    "start_time": "2023-05-11T09:25:00.568Z"
   },
   {
    "duration": 14,
    "start_time": "2023-05-11T09:25:00.797Z"
   },
   {
    "duration": 170,
    "start_time": "2023-05-11T09:25:00.813Z"
   },
   {
    "duration": 96,
    "start_time": "2023-05-11T09:25:00.988Z"
   },
   {
    "duration": 517,
    "start_time": "2023-05-11T09:25:01.091Z"
   },
   {
    "duration": 4,
    "start_time": "2023-05-11T09:25:01.609Z"
   },
   {
    "duration": 324,
    "start_time": "2023-05-11T09:25:01.615Z"
   },
   {
    "duration": 4,
    "start_time": "2023-05-11T09:26:00.072Z"
   },
   {
    "duration": 165,
    "start_time": "2023-05-11T09:26:00.078Z"
   },
   {
    "duration": 313,
    "start_time": "2023-05-11T09:26:00.246Z"
   },
   {
    "duration": 28,
    "start_time": "2023-05-11T09:26:00.561Z"
   },
   {
    "duration": 119,
    "start_time": "2023-05-11T09:26:00.592Z"
   },
   {
    "duration": 199,
    "start_time": "2023-05-11T09:26:00.714Z"
   },
   {
    "duration": 144,
    "start_time": "2023-05-11T09:26:00.916Z"
   },
   {
    "duration": 220,
    "start_time": "2023-05-11T09:26:01.062Z"
   },
   {
    "duration": 311,
    "start_time": "2023-05-11T09:26:01.288Z"
   },
   {
    "duration": 159,
    "start_time": "2023-05-11T09:26:01.601Z"
   },
   {
    "duration": 110,
    "start_time": "2023-05-11T09:26:01.763Z"
   },
   {
    "duration": 151,
    "start_time": "2023-05-11T09:26:01.876Z"
   },
   {
    "duration": 725,
    "start_time": "2023-05-11T09:26:02.029Z"
   },
   {
    "duration": 309,
    "start_time": "2023-05-11T09:26:02.761Z"
   },
   {
    "duration": 7,
    "start_time": "2023-05-11T09:26:03.076Z"
   },
   {
    "duration": 811,
    "start_time": "2023-05-11T09:26:03.089Z"
   },
   {
    "duration": 1321,
    "start_time": "2023-05-11T09:26:03.905Z"
   },
   {
    "duration": 1466,
    "start_time": "2023-05-11T09:26:05.232Z"
   },
   {
    "duration": 90,
    "start_time": "2023-05-11T09:26:06.708Z"
   },
   {
    "duration": 70,
    "start_time": "2023-05-11T09:26:06.804Z"
   },
   {
    "duration": 121,
    "start_time": "2023-05-11T09:26:06.893Z"
   },
   {
    "duration": 212,
    "start_time": "2023-05-11T09:26:07.018Z"
   },
   {
    "duration": 129,
    "start_time": "2023-05-11T09:26:07.243Z"
   },
   {
    "duration": 119,
    "start_time": "2023-05-11T09:26:07.379Z"
   },
   {
    "duration": 156,
    "start_time": "2023-05-11T09:26:07.502Z"
   },
   {
    "duration": 1033,
    "start_time": "2023-05-11T09:26:07.665Z"
   },
   {
    "duration": 726,
    "start_time": "2023-05-11T09:26:08.705Z"
   },
   {
    "duration": 1079,
    "start_time": "2023-05-11T09:26:09.434Z"
   },
   {
    "duration": 698,
    "start_time": "2023-05-11T09:26:10.519Z"
   },
   {
    "duration": 217,
    "start_time": "2023-05-11T09:26:11.219Z"
   },
   {
    "duration": 12,
    "start_time": "2023-05-11T09:26:11.438Z"
   },
   {
    "duration": 190,
    "start_time": "2023-05-11T09:26:11.452Z"
   },
   {
    "duration": 97,
    "start_time": "2023-05-11T09:26:11.644Z"
   },
   {
    "duration": 448,
    "start_time": "2023-05-11T09:26:11.744Z"
   },
   {
    "duration": 7,
    "start_time": "2023-05-11T09:26:12.200Z"
   },
   {
    "duration": 479,
    "start_time": "2023-05-11T09:26:12.210Z"
   },
   {
    "duration": 1523,
    "start_time": "2023-05-12T07:28:59.106Z"
   },
   {
    "duration": 4,
    "start_time": "2023-05-12T07:29:00.631Z"
   },
   {
    "duration": 291,
    "start_time": "2023-05-12T07:29:00.637Z"
   },
   {
    "duration": 22,
    "start_time": "2023-05-12T07:29:00.930Z"
   },
   {
    "duration": 69,
    "start_time": "2023-05-12T07:29:00.955Z"
   },
   {
    "duration": 17,
    "start_time": "2023-05-12T07:29:01.026Z"
   },
   {
    "duration": 47,
    "start_time": "2023-05-12T07:29:01.044Z"
   },
   {
    "duration": 11,
    "start_time": "2023-05-12T07:29:01.094Z"
   },
   {
    "duration": 27,
    "start_time": "2023-05-12T07:29:01.107Z"
   },
   {
    "duration": 23,
    "start_time": "2023-05-12T07:29:01.136Z"
   },
   {
    "duration": 33,
    "start_time": "2023-05-12T07:29:01.162Z"
   },
   {
    "duration": 27,
    "start_time": "2023-05-12T07:29:01.198Z"
   },
   {
    "duration": 509,
    "start_time": "2023-05-12T07:29:01.227Z"
   },
   {
    "duration": 255,
    "start_time": "2023-05-12T07:29:01.740Z"
   },
   {
    "duration": 5,
    "start_time": "2023-05-12T07:29:02.001Z"
   },
   {
    "duration": 537,
    "start_time": "2023-05-12T07:29:02.007Z"
   },
   {
    "duration": 900,
    "start_time": "2023-05-12T07:29:02.546Z"
   },
   {
    "duration": 1182,
    "start_time": "2023-05-12T07:29:03.448Z"
   },
   {
    "duration": 52,
    "start_time": "2023-05-12T07:29:04.632Z"
   },
   {
    "duration": 9,
    "start_time": "2023-05-12T07:29:04.689Z"
   },
   {
    "duration": 11,
    "start_time": "2023-05-12T07:29:04.701Z"
   },
   {
    "duration": 18,
    "start_time": "2023-05-12T07:29:04.715Z"
   },
   {
    "duration": 47,
    "start_time": "2023-05-12T07:29:04.735Z"
   },
   {
    "duration": 32,
    "start_time": "2023-05-12T07:29:04.785Z"
   },
   {
    "duration": 73,
    "start_time": "2023-05-12T07:29:04.819Z"
   },
   {
    "duration": 842,
    "start_time": "2023-05-12T07:29:04.896Z"
   },
   {
    "duration": 551,
    "start_time": "2023-05-12T07:29:05.740Z"
   },
   {
    "duration": 616,
    "start_time": "2023-05-12T07:29:06.296Z"
   },
   {
    "duration": 497,
    "start_time": "2023-05-12T07:29:06.914Z"
   },
   {
    "duration": 158,
    "start_time": "2023-05-12T07:29:07.413Z"
   },
   {
    "duration": 11,
    "start_time": "2023-05-12T07:29:07.584Z"
   },
   {
    "duration": 10,
    "start_time": "2023-05-12T07:29:07.597Z"
   },
   {
    "duration": 22,
    "start_time": "2023-05-12T07:29:07.609Z"
   },
   {
    "duration": 259,
    "start_time": "2023-05-12T07:29:07.633Z"
   },
   {
    "duration": 4,
    "start_time": "2023-05-12T07:29:07.896Z"
   },
   {
    "duration": 212,
    "start_time": "2023-05-12T07:29:07.902Z"
   },
   {
    "duration": 5,
    "start_time": "2023-05-12T07:44:20.619Z"
   },
   {
    "duration": 6,
    "start_time": "2023-05-12T07:44:24.576Z"
   },
   {
    "duration": 8,
    "start_time": "2023-05-12T07:44:57.793Z"
   },
   {
    "duration": 56,
    "start_time": "2023-05-12T07:47:07.153Z"
   },
   {
    "duration": 1638,
    "start_time": "2023-05-12T08:25:06.151Z"
   },
   {
    "duration": 7,
    "start_time": "2023-05-12T08:25:07.791Z"
   },
   {
    "duration": 318,
    "start_time": "2023-05-12T08:25:07.801Z"
   },
   {
    "duration": 24,
    "start_time": "2023-05-12T08:25:08.121Z"
   },
   {
    "duration": 28,
    "start_time": "2023-05-12T08:25:08.147Z"
   },
   {
    "duration": 22,
    "start_time": "2023-05-12T08:25:08.177Z"
   },
   {
    "duration": 23,
    "start_time": "2023-05-12T08:25:08.201Z"
   },
   {
    "duration": 24,
    "start_time": "2023-05-12T08:25:08.225Z"
   },
   {
    "duration": 23,
    "start_time": "2023-05-12T08:25:08.251Z"
   },
   {
    "duration": 17,
    "start_time": "2023-05-12T08:25:08.276Z"
   },
   {
    "duration": 18,
    "start_time": "2023-05-12T08:25:08.295Z"
   },
   {
    "duration": 21,
    "start_time": "2023-05-12T08:25:08.315Z"
   },
   {
    "duration": 423,
    "start_time": "2023-05-12T08:25:08.338Z"
   },
   {
    "duration": 208,
    "start_time": "2023-05-12T08:25:08.764Z"
   },
   {
    "duration": 5,
    "start_time": "2023-05-12T08:25:08.974Z"
   },
   {
    "duration": 633,
    "start_time": "2023-05-12T08:25:08.980Z"
   },
   {
    "duration": 887,
    "start_time": "2023-05-12T08:25:09.615Z"
   },
   {
    "duration": 1167,
    "start_time": "2023-05-12T08:25:10.503Z"
   },
   {
    "duration": 43,
    "start_time": "2023-05-12T08:25:11.672Z"
   },
   {
    "duration": 8,
    "start_time": "2023-05-12T08:25:11.716Z"
   },
   {
    "duration": 38,
    "start_time": "2023-05-12T08:25:11.725Z"
   },
   {
    "duration": 34,
    "start_time": "2023-05-12T08:25:11.765Z"
   },
   {
    "duration": 54,
    "start_time": "2023-05-12T08:25:11.801Z"
   },
   {
    "duration": 29,
    "start_time": "2023-05-12T08:25:11.856Z"
   },
   {
    "duration": 47,
    "start_time": "2023-05-12T08:25:11.887Z"
   },
   {
    "duration": 767,
    "start_time": "2023-05-12T08:25:11.936Z"
   },
   {
    "duration": 520,
    "start_time": "2023-05-12T08:25:12.705Z"
   },
   {
    "duration": 786,
    "start_time": "2023-05-12T08:25:13.226Z"
   },
   {
    "duration": 530,
    "start_time": "2023-05-12T08:25:14.013Z"
   },
   {
    "duration": 156,
    "start_time": "2023-05-12T08:25:14.546Z"
   },
   {
    "duration": 8,
    "start_time": "2023-05-12T08:25:14.703Z"
   },
   {
    "duration": 11,
    "start_time": "2023-05-12T08:25:14.713Z"
   },
   {
    "duration": 16,
    "start_time": "2023-05-12T08:25:14.726Z"
   },
   {
    "duration": 254,
    "start_time": "2023-05-12T08:25:14.744Z"
   },
   {
    "duration": 4,
    "start_time": "2023-05-12T08:25:15.000Z"
   },
   {
    "duration": 210,
    "start_time": "2023-05-12T08:25:15.006Z"
   },
   {
    "duration": 224,
    "start_time": "2023-05-12T09:14:21.447Z"
   },
   {
    "duration": 226,
    "start_time": "2023-05-12T09:15:29.565Z"
   },
   {
    "duration": 229,
    "start_time": "2023-05-12T09:15:59.477Z"
   },
   {
    "duration": 1299,
    "start_time": "2023-05-14T09:13:56.276Z"
   },
   {
    "duration": 3,
    "start_time": "2023-05-14T09:13:57.577Z"
   },
   {
    "duration": 225,
    "start_time": "2023-05-14T09:13:57.582Z"
   },
   {
    "duration": 22,
    "start_time": "2023-05-14T09:13:57.809Z"
   },
   {
    "duration": 18,
    "start_time": "2023-05-14T09:13:57.834Z"
   },
   {
    "duration": 16,
    "start_time": "2023-05-14T09:13:57.853Z"
   },
   {
    "duration": 16,
    "start_time": "2023-05-14T09:13:57.871Z"
   },
   {
    "duration": 7,
    "start_time": "2023-05-14T09:13:57.888Z"
   },
   {
    "duration": 14,
    "start_time": "2023-05-14T09:13:57.897Z"
   },
   {
    "duration": 7,
    "start_time": "2023-05-14T09:13:57.913Z"
   },
   {
    "duration": 5,
    "start_time": "2023-05-14T09:13:57.922Z"
   },
   {
    "duration": 8,
    "start_time": "2023-05-14T09:13:57.957Z"
   },
   {
    "duration": 411,
    "start_time": "2023-05-14T09:13:57.967Z"
   },
   {
    "duration": 204,
    "start_time": "2023-05-14T09:13:58.380Z"
   },
   {
    "duration": 4,
    "start_time": "2023-05-14T09:13:58.586Z"
   },
   {
    "duration": 593,
    "start_time": "2023-05-14T09:13:58.592Z"
   },
   {
    "duration": 952,
    "start_time": "2023-05-14T09:13:59.187Z"
   },
   {
    "duration": 1104,
    "start_time": "2023-05-14T09:14:00.141Z"
   },
   {
    "duration": 34,
    "start_time": "2023-05-14T09:14:01.247Z"
   },
   {
    "duration": 11,
    "start_time": "2023-05-14T09:14:01.282Z"
   },
   {
    "duration": 29,
    "start_time": "2023-05-14T09:14:01.294Z"
   },
   {
    "duration": 46,
    "start_time": "2023-05-14T09:14:01.325Z"
   },
   {
    "duration": 33,
    "start_time": "2023-05-14T09:14:01.373Z"
   },
   {
    "duration": 26,
    "start_time": "2023-05-14T09:14:01.408Z"
   },
   {
    "duration": 51,
    "start_time": "2023-05-14T09:14:01.436Z"
   },
   {
    "duration": 693,
    "start_time": "2023-05-14T09:14:01.489Z"
   },
   {
    "duration": 442,
    "start_time": "2023-05-14T09:14:02.184Z"
   },
   {
    "duration": 659,
    "start_time": "2023-05-14T09:14:02.628Z"
   },
   {
    "duration": 483,
    "start_time": "2023-05-14T09:14:03.289Z"
   },
   {
    "duration": 176,
    "start_time": "2023-05-14T09:14:03.774Z"
   },
   {
    "duration": 8,
    "start_time": "2023-05-14T09:14:03.955Z"
   },
   {
    "duration": 10,
    "start_time": "2023-05-14T09:14:03.966Z"
   },
   {
    "duration": 16,
    "start_time": "2023-05-14T09:14:03.979Z"
   },
   {
    "duration": 270,
    "start_time": "2023-05-14T09:14:03.997Z"
   },
   {
    "duration": 3,
    "start_time": "2023-05-14T09:14:04.270Z"
   },
   {
    "duration": 257,
    "start_time": "2023-05-14T09:14:04.275Z"
   },
   {
    "duration": 185,
    "start_time": "2023-05-14T09:15:42.663Z"
   },
   {
    "duration": 6,
    "start_time": "2023-05-14T09:16:31.496Z"
   },
   {
    "duration": 479,
    "start_time": "2023-05-14T09:16:55.026Z"
   },
   {
    "duration": 884,
    "start_time": "2023-05-14T09:18:30.825Z"
   },
   {
    "duration": 1012,
    "start_time": "2023-05-14T09:21:36.526Z"
   },
   {
    "duration": 132,
    "start_time": "2023-05-14T09:21:53.892Z"
   },
   {
    "duration": 1163,
    "start_time": "2023-05-14T09:22:04.551Z"
   },
   {
    "duration": 29,
    "start_time": "2023-05-14T09:22:38.206Z"
   },
   {
    "duration": 12,
    "start_time": "2023-05-14T09:22:59.693Z"
   },
   {
    "duration": 6,
    "start_time": "2023-05-14T09:23:13.392Z"
   },
   {
    "duration": 16,
    "start_time": "2023-05-14T09:23:14.342Z"
   },
   {
    "duration": 29,
    "start_time": "2023-05-14T09:23:18.780Z"
   },
   {
    "duration": 27,
    "start_time": "2023-05-14T09:23:26.301Z"
   },
   {
    "duration": 36,
    "start_time": "2023-05-14T09:23:32.288Z"
   },
   {
    "duration": 14,
    "start_time": "2023-05-14T09:24:21.062Z"
   },
   {
    "duration": 959,
    "start_time": "2023-05-14T09:24:42.756Z"
   },
   {
    "duration": 3,
    "start_time": "2023-05-14T09:25:23.297Z"
   },
   {
    "duration": 4,
    "start_time": "2023-05-14T09:25:23.302Z"
   },
   {
    "duration": 67,
    "start_time": "2023-05-14T09:25:23.308Z"
   },
   {
    "duration": 17,
    "start_time": "2023-05-14T09:25:23.377Z"
   },
   {
    "duration": 19,
    "start_time": "2023-05-14T09:25:23.396Z"
   },
   {
    "duration": 15,
    "start_time": "2023-05-14T09:25:23.417Z"
   },
   {
    "duration": 32,
    "start_time": "2023-05-14T09:25:23.434Z"
   },
   {
    "duration": 8,
    "start_time": "2023-05-14T09:25:23.467Z"
   },
   {
    "duration": 14,
    "start_time": "2023-05-14T09:25:23.477Z"
   },
   {
    "duration": 8,
    "start_time": "2023-05-14T09:25:23.493Z"
   },
   {
    "duration": 5,
    "start_time": "2023-05-14T09:25:23.503Z"
   },
   {
    "duration": 12,
    "start_time": "2023-05-14T09:25:23.509Z"
   },
   {
    "duration": 386,
    "start_time": "2023-05-14T09:25:23.556Z"
   },
   {
    "duration": 216,
    "start_time": "2023-05-14T09:25:23.945Z"
   },
   {
    "duration": 6,
    "start_time": "2023-05-14T09:25:24.163Z"
   },
   {
    "duration": 569,
    "start_time": "2023-05-14T09:25:24.172Z"
   },
   {
    "duration": 888,
    "start_time": "2023-05-14T09:25:24.744Z"
   },
   {
    "duration": 1057,
    "start_time": "2023-05-14T09:25:25.633Z"
   },
   {
    "duration": 28,
    "start_time": "2023-05-14T09:25:26.692Z"
   },
   {
    "duration": 8,
    "start_time": "2023-05-14T09:25:26.722Z"
   },
   {
    "duration": 27,
    "start_time": "2023-05-14T09:25:26.731Z"
   },
   {
    "duration": 26,
    "start_time": "2023-05-14T09:25:26.760Z"
   },
   {
    "duration": 30,
    "start_time": "2023-05-14T09:25:26.788Z"
   },
   {
    "duration": 39,
    "start_time": "2023-05-14T09:25:26.819Z"
   },
   {
    "duration": 33,
    "start_time": "2023-05-14T09:25:26.860Z"
   },
   {
    "duration": 8,
    "start_time": "2023-05-14T09:25:26.895Z"
   },
   {
    "duration": 1032,
    "start_time": "2023-05-14T09:25:26.905Z"
   },
   {
    "duration": 16,
    "start_time": "2023-05-14T09:25:27.939Z"
   },
   {
    "duration": 0,
    "start_time": "2023-05-14T09:25:27.957Z"
   },
   {
    "duration": 0,
    "start_time": "2023-05-14T09:25:27.958Z"
   },
   {
    "duration": 0,
    "start_time": "2023-05-14T09:25:27.959Z"
   },
   {
    "duration": 0,
    "start_time": "2023-05-14T09:25:27.960Z"
   },
   {
    "duration": 0,
    "start_time": "2023-05-14T09:25:27.962Z"
   },
   {
    "duration": 0,
    "start_time": "2023-05-14T09:25:27.963Z"
   },
   {
    "duration": 0,
    "start_time": "2023-05-14T09:25:27.964Z"
   },
   {
    "duration": 0,
    "start_time": "2023-05-14T09:25:27.965Z"
   },
   {
    "duration": 0,
    "start_time": "2023-05-14T09:25:27.967Z"
   },
   {
    "duration": 1112,
    "start_time": "2023-05-14T09:26:26.092Z"
   },
   {
    "duration": 52,
    "start_time": "2023-05-14T09:27:48.148Z"
   },
   {
    "duration": 8,
    "start_time": "2023-05-14T09:29:27.508Z"
   },
   {
    "duration": 6,
    "start_time": "2023-05-14T09:31:20.495Z"
   },
   {
    "duration": 14,
    "start_time": "2023-05-14T09:32:55.858Z"
   },
   {
    "duration": 218,
    "start_time": "2023-05-14T09:34:36.546Z"
   },
   {
    "duration": 3,
    "start_time": "2023-05-14T09:34:49.152Z"
   },
   {
    "duration": 193,
    "start_time": "2023-05-14T09:35:40.037Z"
   },
   {
    "duration": 4,
    "start_time": "2023-05-14T09:36:10.551Z"
   },
   {
    "duration": 20,
    "start_time": "2023-05-14T09:36:10.556Z"
   },
   {
    "duration": 69,
    "start_time": "2023-05-14T09:36:10.578Z"
   },
   {
    "duration": 18,
    "start_time": "2023-05-14T09:36:10.649Z"
   },
   {
    "duration": 28,
    "start_time": "2023-05-14T09:36:10.669Z"
   },
   {
    "duration": 16,
    "start_time": "2023-05-14T09:36:10.699Z"
   },
   {
    "duration": 16,
    "start_time": "2023-05-14T09:36:10.718Z"
   },
   {
    "duration": 25,
    "start_time": "2023-05-14T09:36:10.736Z"
   },
   {
    "duration": 23,
    "start_time": "2023-05-14T09:36:10.763Z"
   },
   {
    "duration": 10,
    "start_time": "2023-05-14T09:36:10.788Z"
   },
   {
    "duration": 5,
    "start_time": "2023-05-14T09:36:10.800Z"
   },
   {
    "duration": 16,
    "start_time": "2023-05-14T09:36:10.807Z"
   },
   {
    "duration": 421,
    "start_time": "2023-05-14T09:36:10.825Z"
   },
   {
    "duration": 206,
    "start_time": "2023-05-14T09:36:11.256Z"
   },
   {
    "duration": 6,
    "start_time": "2023-05-14T09:36:11.464Z"
   },
   {
    "duration": 471,
    "start_time": "2023-05-14T09:36:11.472Z"
   },
   {
    "duration": 1131,
    "start_time": "2023-05-14T09:36:11.945Z"
   },
   {
    "duration": 953,
    "start_time": "2023-05-14T09:36:13.078Z"
   },
   {
    "duration": 30,
    "start_time": "2023-05-14T09:36:14.033Z"
   },
   {
    "duration": 8,
    "start_time": "2023-05-14T09:36:14.065Z"
   },
   {
    "duration": 9,
    "start_time": "2023-05-14T09:36:14.075Z"
   },
   {
    "duration": 17,
    "start_time": "2023-05-14T09:36:14.086Z"
   },
   {
    "duration": 57,
    "start_time": "2023-05-14T09:36:14.105Z"
   },
   {
    "duration": 26,
    "start_time": "2023-05-14T09:36:14.164Z"
   },
   {
    "duration": 65,
    "start_time": "2023-05-14T09:36:14.192Z"
   },
   {
    "duration": 9,
    "start_time": "2023-05-14T09:36:14.258Z"
   },
   {
    "duration": 973,
    "start_time": "2023-05-14T09:36:14.270Z"
   },
   {
    "duration": 972,
    "start_time": "2023-05-14T09:36:15.245Z"
   },
   {
    "duration": 190,
    "start_time": "2023-05-14T09:36:16.218Z"
   },
   {
    "duration": 8,
    "start_time": "2023-05-14T09:36:16.410Z"
   },
   {
    "duration": 7,
    "start_time": "2023-05-14T09:36:16.419Z"
   },
   {
    "duration": 30,
    "start_time": "2023-05-14T09:36:16.428Z"
   },
   {
    "duration": 242,
    "start_time": "2023-05-14T09:36:16.459Z"
   },
   {
    "duration": 4,
    "start_time": "2023-05-14T09:36:16.702Z"
   },
   {
    "duration": 209,
    "start_time": "2023-05-14T09:36:16.707Z"
   },
   {
    "duration": 181,
    "start_time": "2023-05-14T09:40:50.195Z"
   },
   {
    "duration": 3,
    "start_time": "2023-05-14T10:55:41.456Z"
   },
   {
    "duration": 5,
    "start_time": "2023-05-14T10:55:41.461Z"
   },
   {
    "duration": 60,
    "start_time": "2023-05-14T10:55:41.479Z"
   },
   {
    "duration": 19,
    "start_time": "2023-05-14T10:55:41.541Z"
   },
   {
    "duration": 36,
    "start_time": "2023-05-14T10:55:41.561Z"
   },
   {
    "duration": 35,
    "start_time": "2023-05-14T10:55:41.600Z"
   },
   {
    "duration": 18,
    "start_time": "2023-05-14T10:55:41.637Z"
   },
   {
    "duration": 23,
    "start_time": "2023-05-14T10:55:41.657Z"
   },
   {
    "duration": 17,
    "start_time": "2023-05-14T10:55:41.682Z"
   },
   {
    "duration": 10,
    "start_time": "2023-05-14T10:55:41.702Z"
   },
   {
    "duration": 19,
    "start_time": "2023-05-14T10:55:41.714Z"
   },
   {
    "duration": 26,
    "start_time": "2023-05-14T10:55:41.737Z"
   },
   {
    "duration": 413,
    "start_time": "2023-05-14T10:55:41.765Z"
   },
   {
    "duration": 210,
    "start_time": "2023-05-14T10:55:42.180Z"
   },
   {
    "duration": 6,
    "start_time": "2023-05-14T10:55:42.392Z"
   },
   {
    "duration": 492,
    "start_time": "2023-05-14T10:55:42.400Z"
   },
   {
    "duration": 1112,
    "start_time": "2023-05-14T10:55:42.894Z"
   },
   {
    "duration": 970,
    "start_time": "2023-05-14T10:55:44.009Z"
   },
   {
    "duration": 35,
    "start_time": "2023-05-14T10:55:44.981Z"
   },
   {
    "duration": 10,
    "start_time": "2023-05-14T10:55:45.018Z"
   },
   {
    "duration": 28,
    "start_time": "2023-05-14T10:55:45.030Z"
   },
   {
    "duration": 31,
    "start_time": "2023-05-14T10:55:45.060Z"
   },
   {
    "duration": 31,
    "start_time": "2023-05-14T10:55:45.093Z"
   },
   {
    "duration": 45,
    "start_time": "2023-05-14T10:55:45.126Z"
   },
   {
    "duration": 46,
    "start_time": "2023-05-14T10:55:45.173Z"
   },
   {
    "duration": 41,
    "start_time": "2023-05-14T10:55:45.221Z"
   },
   {
    "duration": 1261,
    "start_time": "2023-05-14T10:55:45.264Z"
   },
   {
    "duration": 1045,
    "start_time": "2023-05-14T10:55:46.527Z"
   },
   {
    "duration": 48,
    "start_time": "2023-05-14T10:55:47.575Z"
   },
   {
    "duration": 30,
    "start_time": "2023-05-14T10:55:47.627Z"
   },
   {
    "duration": 18,
    "start_time": "2023-05-14T10:55:47.660Z"
   },
   {
    "duration": 57,
    "start_time": "2023-05-14T10:55:47.681Z"
   },
   {
    "duration": 254,
    "start_time": "2023-05-14T10:55:47.741Z"
   },
   {
    "duration": 4,
    "start_time": "2023-05-14T10:55:47.997Z"
   },
   {
    "duration": 385,
    "start_time": "2023-05-14T10:55:48.003Z"
   },
   {
    "duration": 225,
    "start_time": "2023-05-14T11:06:55.545Z"
   },
   {
    "duration": 249,
    "start_time": "2023-05-14T11:07:15.018Z"
   },
   {
    "duration": 237,
    "start_time": "2023-05-14T11:07:20.046Z"
   },
   {
    "duration": 3,
    "start_time": "2023-05-14T11:11:50.654Z"
   },
   {
    "duration": 20,
    "start_time": "2023-05-14T11:11:50.659Z"
   },
   {
    "duration": 82,
    "start_time": "2023-05-14T11:11:50.681Z"
   },
   {
    "duration": 17,
    "start_time": "2023-05-14T11:11:50.765Z"
   },
   {
    "duration": 57,
    "start_time": "2023-05-14T11:11:50.783Z"
   },
   {
    "duration": 36,
    "start_time": "2023-05-14T11:11:50.841Z"
   },
   {
    "duration": 29,
    "start_time": "2023-05-14T11:11:50.879Z"
   },
   {
    "duration": 24,
    "start_time": "2023-05-14T11:11:50.910Z"
   },
   {
    "duration": 39,
    "start_time": "2023-05-14T11:11:50.936Z"
   },
   {
    "duration": 16,
    "start_time": "2023-05-14T11:11:50.979Z"
   },
   {
    "duration": 24,
    "start_time": "2023-05-14T11:11:50.997Z"
   },
   {
    "duration": 18,
    "start_time": "2023-05-14T11:11:51.023Z"
   },
   {
    "duration": 406,
    "start_time": "2023-05-14T11:11:51.043Z"
   },
   {
    "duration": 211,
    "start_time": "2023-05-14T11:11:51.451Z"
   },
   {
    "duration": 6,
    "start_time": "2023-05-14T11:11:51.664Z"
   },
   {
    "duration": 506,
    "start_time": "2023-05-14T11:11:51.672Z"
   },
   {
    "duration": 972,
    "start_time": "2023-05-14T11:11:52.179Z"
   },
   {
    "duration": 926,
    "start_time": "2023-05-14T11:11:53.156Z"
   },
   {
    "duration": 27,
    "start_time": "2023-05-14T11:11:54.084Z"
   },
   {
    "duration": 12,
    "start_time": "2023-05-14T11:11:54.113Z"
   },
   {
    "duration": 22,
    "start_time": "2023-05-14T11:11:54.128Z"
   },
   {
    "duration": 38,
    "start_time": "2023-05-14T11:11:54.152Z"
   },
   {
    "duration": 31,
    "start_time": "2023-05-14T11:11:54.192Z"
   },
   {
    "duration": 37,
    "start_time": "2023-05-14T11:11:54.224Z"
   },
   {
    "duration": 35,
    "start_time": "2023-05-14T11:11:54.263Z"
   },
   {
    "duration": 8,
    "start_time": "2023-05-14T11:11:54.300Z"
   },
   {
    "duration": 1015,
    "start_time": "2023-05-14T11:11:54.310Z"
   },
   {
    "duration": 1040,
    "start_time": "2023-05-14T11:11:55.329Z"
   },
   {
    "duration": 205,
    "start_time": "2023-05-14T11:11:56.371Z"
   },
   {
    "duration": 8,
    "start_time": "2023-05-14T11:11:56.578Z"
   },
   {
    "duration": 15,
    "start_time": "2023-05-14T11:11:56.587Z"
   },
   {
    "duration": 29,
    "start_time": "2023-05-14T11:11:56.604Z"
   },
   {
    "duration": 233,
    "start_time": "2023-05-14T11:11:56.635Z"
   },
   {
    "duration": 3,
    "start_time": "2023-05-14T11:11:56.870Z"
   },
   {
    "duration": 199,
    "start_time": "2023-05-14T11:11:56.874Z"
   },
   {
    "duration": 1236,
    "start_time": "2023-05-15T05:37:01.279Z"
   },
   {
    "duration": 3,
    "start_time": "2023-05-15T05:37:02.517Z"
   },
   {
    "duration": 339,
    "start_time": "2023-05-15T05:37:02.522Z"
   },
   {
    "duration": 24,
    "start_time": "2023-05-15T05:37:02.863Z"
   },
   {
    "duration": 37,
    "start_time": "2023-05-15T05:37:02.890Z"
   },
   {
    "duration": 34,
    "start_time": "2023-05-15T05:37:02.929Z"
   },
   {
    "duration": 30,
    "start_time": "2023-05-15T05:37:02.964Z"
   },
   {
    "duration": 19,
    "start_time": "2023-05-15T05:37:02.996Z"
   },
   {
    "duration": 31,
    "start_time": "2023-05-15T05:37:03.017Z"
   },
   {
    "duration": 10,
    "start_time": "2023-05-15T05:37:03.050Z"
   },
   {
    "duration": 23,
    "start_time": "2023-05-15T05:37:03.062Z"
   },
   {
    "duration": 22,
    "start_time": "2023-05-15T05:37:03.088Z"
   },
   {
    "duration": 412,
    "start_time": "2023-05-15T05:37:03.112Z"
   },
   {
    "duration": 199,
    "start_time": "2023-05-15T05:37:03.528Z"
   },
   {
    "duration": 6,
    "start_time": "2023-05-15T05:37:03.729Z"
   },
   {
    "duration": 463,
    "start_time": "2023-05-15T05:37:03.737Z"
   },
   {
    "duration": 803,
    "start_time": "2023-05-15T05:37:04.202Z"
   },
   {
    "duration": 971,
    "start_time": "2023-05-15T05:37:05.006Z"
   },
   {
    "duration": 33,
    "start_time": "2023-05-15T05:37:05.979Z"
   },
   {
    "duration": 6,
    "start_time": "2023-05-15T05:37:06.013Z"
   },
   {
    "duration": 8,
    "start_time": "2023-05-15T05:37:06.021Z"
   },
   {
    "duration": 16,
    "start_time": "2023-05-15T05:37:06.031Z"
   },
   {
    "duration": 23,
    "start_time": "2023-05-15T05:37:06.049Z"
   },
   {
    "duration": 24,
    "start_time": "2023-05-15T05:37:06.097Z"
   },
   {
    "duration": 36,
    "start_time": "2023-05-15T05:37:06.123Z"
   },
   {
    "duration": 7,
    "start_time": "2023-05-15T05:37:06.160Z"
   },
   {
    "duration": 1196,
    "start_time": "2023-05-15T05:37:06.169Z"
   },
   {
    "duration": 939,
    "start_time": "2023-05-15T05:37:07.367Z"
   },
   {
    "duration": 39,
    "start_time": "2023-05-15T05:37:08.307Z"
   },
   {
    "duration": 6,
    "start_time": "2023-05-15T05:37:08.348Z"
   },
   {
    "duration": 11,
    "start_time": "2023-05-15T05:37:08.355Z"
   },
   {
    "duration": 34,
    "start_time": "2023-05-15T05:37:08.368Z"
   },
   {
    "duration": 190,
    "start_time": "2023-05-15T05:37:08.404Z"
   },
   {
    "duration": 2,
    "start_time": "2023-05-15T05:37:08.598Z"
   },
   {
    "duration": 272,
    "start_time": "2023-05-15T05:37:08.601Z"
   }
  ],
  "kernelspec": {
   "display_name": "Python 3 (ipykernel)",
   "language": "python",
   "name": "python3"
  },
  "language_info": {
   "codemirror_mode": {
    "name": "ipython",
    "version": 3
   },
   "file_extension": ".py",
   "mimetype": "text/x-python",
   "name": "python",
   "nbconvert_exporter": "python",
   "pygments_lexer": "ipython3",
   "version": "3.9.19"
  },
  "toc": {
   "base_numbering": 1,
   "nav_menu": {},
   "number_sections": true,
   "sideBar": true,
   "skip_h1_title": true,
   "title_cell": "Ход исследования",
   "title_sidebar": "Contents",
   "toc_cell": true,
   "toc_position": {
    "height": "calc(100% - 180px)",
    "left": "10px",
    "top": "150px",
    "width": "307.2px"
   },
   "toc_section_display": true,
   "toc_window_display": false
  }
 },
 "nbformat": 4,
 "nbformat_minor": 5
}
